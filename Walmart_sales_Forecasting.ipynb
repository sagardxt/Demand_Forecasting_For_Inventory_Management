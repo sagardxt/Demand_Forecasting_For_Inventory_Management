{
 "cells": [
  {
   "cell_type": "code",
   "execution_count": 3,
   "id": "2f1e4e50-07f4-40fb-bc55-5f7c9394315c",
   "metadata": {},
   "outputs": [],
   "source": [
    "import numpy as np\n",
    "import pandas as pd\n",
    "from matplotlib import pyplot as plt\n",
    "import seaborn as sns\n",
    "import plotly.express as px\n",
    "from pandas.plotting import autocorrelation_plot as auto_corr\n",
    "import math\n",
    "from datetime import datetime\n",
    "from datetime import timedelta\n",
    "from sklearn.model_selection import train_test_split,cross_val_score\n",
    "from statsmodels.tsa.seasonal import seasonal_decompose as season\n",
    "from sklearn.metrics import mean_squared_error, mean_absolute_error,accuracy_score,balanced_accuracy_score\n",
    "from sklearn.pipeline import make_pipeline, Pipeline\n",
    "from sklearn.ensemble import RandomForestRegressor\n",
    "from sklearn import metrics,preprocessing\n",
    "from sklearn.linear_model import LinearRegression\n"
   ]
  },
  {
   "cell_type": "code",
   "execution_count": 4,
   "id": "79935e33-8b42-46bb-a99a-769ee04d71df",
   "metadata": {},
   "outputs": [],
   "source": [
    "df_store = pd.read_csv(r\"C:\\Users\\ASUS\\Documents\\SAGAR\\demand forecasting for invetory managment project\\stores.csv\")"
   ]
  },
  {
   "cell_type": "code",
   "execution_count": 5,
   "id": "e3dd8db7-f560-4881-a078-1889eb4060d6",
   "metadata": {},
   "outputs": [],
   "source": [
    "df_train = pd.read_csv(r\"C:\\Users\\ASUS\\Documents\\SAGAR\\demand forecasting for invetory managment project\\train.csv\")"
   ]
  },
  {
   "cell_type": "code",
   "execution_count": 6,
   "id": "95ae07e5-0c7e-4d4a-a6ff-574bcc357074",
   "metadata": {},
   "outputs": [],
   "source": [
    "df_features = pd.read_csv(r\"C:\\Users\\ASUS\\Documents\\SAGAR\\demand forecasting for invetory managment project\\features.csv\")"
   ]
  },
  {
   "cell_type": "code",
   "execution_count": 7,
   "id": "322d6f2e-7951-4851-a381-fe10be47f5c3",
   "metadata": {},
   "outputs": [
    {
     "data": {
      "text/html": [
       "<div>\n",
       "<style scoped>\n",
       "    .dataframe tbody tr th:only-of-type {\n",
       "        vertical-align: middle;\n",
       "    }\n",
       "\n",
       "    .dataframe tbody tr th {\n",
       "        vertical-align: top;\n",
       "    }\n",
       "\n",
       "    .dataframe thead th {\n",
       "        text-align: right;\n",
       "    }\n",
       "</style>\n",
       "<table border=\"1\" class=\"dataframe\">\n",
       "  <thead>\n",
       "    <tr style=\"text-align: right;\">\n",
       "      <th></th>\n",
       "      <th>Store</th>\n",
       "      <th>Type</th>\n",
       "      <th>Size</th>\n",
       "    </tr>\n",
       "  </thead>\n",
       "  <tbody>\n",
       "    <tr>\n",
       "      <th>0</th>\n",
       "      <td>1</td>\n",
       "      <td>A</td>\n",
       "      <td>151315</td>\n",
       "    </tr>\n",
       "    <tr>\n",
       "      <th>1</th>\n",
       "      <td>2</td>\n",
       "      <td>A</td>\n",
       "      <td>202307</td>\n",
       "    </tr>\n",
       "    <tr>\n",
       "      <th>2</th>\n",
       "      <td>3</td>\n",
       "      <td>B</td>\n",
       "      <td>37392</td>\n",
       "    </tr>\n",
       "    <tr>\n",
       "      <th>3</th>\n",
       "      <td>4</td>\n",
       "      <td>A</td>\n",
       "      <td>205863</td>\n",
       "    </tr>\n",
       "    <tr>\n",
       "      <th>4</th>\n",
       "      <td>5</td>\n",
       "      <td>B</td>\n",
       "      <td>34875</td>\n",
       "    </tr>\n",
       "  </tbody>\n",
       "</table>\n",
       "</div>"
      ],
      "text/plain": [
       "   Store Type    Size\n",
       "0      1    A  151315\n",
       "1      2    A  202307\n",
       "2      3    B   37392\n",
       "3      4    A  205863\n",
       "4      5    B   34875"
      ]
     },
     "execution_count": 7,
     "metadata": {},
     "output_type": "execute_result"
    }
   ],
   "source": [
    "df_store.head()"
   ]
  },
  {
   "cell_type": "code",
   "execution_count": 8,
   "id": "88d8e999-6a31-4514-92d9-9b26751d6f2d",
   "metadata": {},
   "outputs": [
    {
     "data": {
      "text/html": [
       "<div>\n",
       "<style scoped>\n",
       "    .dataframe tbody tr th:only-of-type {\n",
       "        vertical-align: middle;\n",
       "    }\n",
       "\n",
       "    .dataframe tbody tr th {\n",
       "        vertical-align: top;\n",
       "    }\n",
       "\n",
       "    .dataframe thead th {\n",
       "        text-align: right;\n",
       "    }\n",
       "</style>\n",
       "<table border=\"1\" class=\"dataframe\">\n",
       "  <thead>\n",
       "    <tr style=\"text-align: right;\">\n",
       "      <th></th>\n",
       "      <th>Store</th>\n",
       "      <th>Dept</th>\n",
       "      <th>Date</th>\n",
       "      <th>Weekly_Sales</th>\n",
       "      <th>IsHoliday</th>\n",
       "    </tr>\n",
       "  </thead>\n",
       "  <tbody>\n",
       "    <tr>\n",
       "      <th>0</th>\n",
       "      <td>1</td>\n",
       "      <td>1</td>\n",
       "      <td>2010-02-05</td>\n",
       "      <td>24924.50</td>\n",
       "      <td>False</td>\n",
       "    </tr>\n",
       "    <tr>\n",
       "      <th>1</th>\n",
       "      <td>1</td>\n",
       "      <td>1</td>\n",
       "      <td>2010-02-12</td>\n",
       "      <td>46039.49</td>\n",
       "      <td>True</td>\n",
       "    </tr>\n",
       "    <tr>\n",
       "      <th>2</th>\n",
       "      <td>1</td>\n",
       "      <td>1</td>\n",
       "      <td>2010-02-19</td>\n",
       "      <td>41595.55</td>\n",
       "      <td>False</td>\n",
       "    </tr>\n",
       "    <tr>\n",
       "      <th>3</th>\n",
       "      <td>1</td>\n",
       "      <td>1</td>\n",
       "      <td>2010-02-26</td>\n",
       "      <td>19403.54</td>\n",
       "      <td>False</td>\n",
       "    </tr>\n",
       "    <tr>\n",
       "      <th>4</th>\n",
       "      <td>1</td>\n",
       "      <td>1</td>\n",
       "      <td>2010-03-05</td>\n",
       "      <td>21827.90</td>\n",
       "      <td>False</td>\n",
       "    </tr>\n",
       "  </tbody>\n",
       "</table>\n",
       "</div>"
      ],
      "text/plain": [
       "   Store  Dept        Date  Weekly_Sales  IsHoliday\n",
       "0      1     1  2010-02-05      24924.50      False\n",
       "1      1     1  2010-02-12      46039.49       True\n",
       "2      1     1  2010-02-19      41595.55      False\n",
       "3      1     1  2010-02-26      19403.54      False\n",
       "4      1     1  2010-03-05      21827.90      False"
      ]
     },
     "execution_count": 8,
     "metadata": {},
     "output_type": "execute_result"
    }
   ],
   "source": [
    "df_train.head()"
   ]
  },
  {
   "cell_type": "code",
   "execution_count": 9,
   "id": "d9daf0f3-e0d3-4bc3-85dc-2c58b94842ca",
   "metadata": {},
   "outputs": [
    {
     "data": {
      "text/html": [
       "<div>\n",
       "<style scoped>\n",
       "    .dataframe tbody tr th:only-of-type {\n",
       "        vertical-align: middle;\n",
       "    }\n",
       "\n",
       "    .dataframe tbody tr th {\n",
       "        vertical-align: top;\n",
       "    }\n",
       "\n",
       "    .dataframe thead th {\n",
       "        text-align: right;\n",
       "    }\n",
       "</style>\n",
       "<table border=\"1\" class=\"dataframe\">\n",
       "  <thead>\n",
       "    <tr style=\"text-align: right;\">\n",
       "      <th></th>\n",
       "      <th>Store</th>\n",
       "      <th>Date</th>\n",
       "      <th>Temperature</th>\n",
       "      <th>Fuel_Price</th>\n",
       "      <th>MarkDown1</th>\n",
       "      <th>MarkDown2</th>\n",
       "      <th>MarkDown3</th>\n",
       "      <th>MarkDown4</th>\n",
       "      <th>MarkDown5</th>\n",
       "      <th>CPI</th>\n",
       "      <th>Unemployment</th>\n",
       "      <th>IsHoliday</th>\n",
       "    </tr>\n",
       "  </thead>\n",
       "  <tbody>\n",
       "    <tr>\n",
       "      <th>0</th>\n",
       "      <td>1</td>\n",
       "      <td>2010-02-05</td>\n",
       "      <td>42.31</td>\n",
       "      <td>2.572</td>\n",
       "      <td>NaN</td>\n",
       "      <td>NaN</td>\n",
       "      <td>NaN</td>\n",
       "      <td>NaN</td>\n",
       "      <td>NaN</td>\n",
       "      <td>211.096358</td>\n",
       "      <td>8.106</td>\n",
       "      <td>False</td>\n",
       "    </tr>\n",
       "    <tr>\n",
       "      <th>1</th>\n",
       "      <td>1</td>\n",
       "      <td>2010-02-12</td>\n",
       "      <td>38.51</td>\n",
       "      <td>2.548</td>\n",
       "      <td>NaN</td>\n",
       "      <td>NaN</td>\n",
       "      <td>NaN</td>\n",
       "      <td>NaN</td>\n",
       "      <td>NaN</td>\n",
       "      <td>211.242170</td>\n",
       "      <td>8.106</td>\n",
       "      <td>True</td>\n",
       "    </tr>\n",
       "    <tr>\n",
       "      <th>2</th>\n",
       "      <td>1</td>\n",
       "      <td>2010-02-19</td>\n",
       "      <td>39.93</td>\n",
       "      <td>2.514</td>\n",
       "      <td>NaN</td>\n",
       "      <td>NaN</td>\n",
       "      <td>NaN</td>\n",
       "      <td>NaN</td>\n",
       "      <td>NaN</td>\n",
       "      <td>211.289143</td>\n",
       "      <td>8.106</td>\n",
       "      <td>False</td>\n",
       "    </tr>\n",
       "    <tr>\n",
       "      <th>3</th>\n",
       "      <td>1</td>\n",
       "      <td>2010-02-26</td>\n",
       "      <td>46.63</td>\n",
       "      <td>2.561</td>\n",
       "      <td>NaN</td>\n",
       "      <td>NaN</td>\n",
       "      <td>NaN</td>\n",
       "      <td>NaN</td>\n",
       "      <td>NaN</td>\n",
       "      <td>211.319643</td>\n",
       "      <td>8.106</td>\n",
       "      <td>False</td>\n",
       "    </tr>\n",
       "    <tr>\n",
       "      <th>4</th>\n",
       "      <td>1</td>\n",
       "      <td>2010-03-05</td>\n",
       "      <td>46.50</td>\n",
       "      <td>2.625</td>\n",
       "      <td>NaN</td>\n",
       "      <td>NaN</td>\n",
       "      <td>NaN</td>\n",
       "      <td>NaN</td>\n",
       "      <td>NaN</td>\n",
       "      <td>211.350143</td>\n",
       "      <td>8.106</td>\n",
       "      <td>False</td>\n",
       "    </tr>\n",
       "  </tbody>\n",
       "</table>\n",
       "</div>"
      ],
      "text/plain": [
       "   Store        Date  Temperature  Fuel_Price  MarkDown1  MarkDown2  \\\n",
       "0      1  2010-02-05        42.31       2.572        NaN        NaN   \n",
       "1      1  2010-02-12        38.51       2.548        NaN        NaN   \n",
       "2      1  2010-02-19        39.93       2.514        NaN        NaN   \n",
       "3      1  2010-02-26        46.63       2.561        NaN        NaN   \n",
       "4      1  2010-03-05        46.50       2.625        NaN        NaN   \n",
       "\n",
       "   MarkDown3  MarkDown4  MarkDown5         CPI  Unemployment  IsHoliday  \n",
       "0        NaN        NaN        NaN  211.096358         8.106      False  \n",
       "1        NaN        NaN        NaN  211.242170         8.106       True  \n",
       "2        NaN        NaN        NaN  211.289143         8.106      False  \n",
       "3        NaN        NaN        NaN  211.319643         8.106      False  \n",
       "4        NaN        NaN        NaN  211.350143         8.106      False  "
      ]
     },
     "execution_count": 9,
     "metadata": {},
     "output_type": "execute_result"
    }
   ],
   "source": [
    "df_features.head()"
   ]
  },
  {
   "cell_type": "code",
   "execution_count": 10,
   "id": "6e31e710-0636-4b6d-b353-87d1f42eec88",
   "metadata": {},
   "outputs": [
    {
     "data": {
      "text/html": [
       "<div>\n",
       "<style scoped>\n",
       "    .dataframe tbody tr th:only-of-type {\n",
       "        vertical-align: middle;\n",
       "    }\n",
       "\n",
       "    .dataframe tbody tr th {\n",
       "        vertical-align: top;\n",
       "    }\n",
       "\n",
       "    .dataframe thead th {\n",
       "        text-align: right;\n",
       "    }\n",
       "</style>\n",
       "<table border=\"1\" class=\"dataframe\">\n",
       "  <thead>\n",
       "    <tr style=\"text-align: right;\">\n",
       "      <th></th>\n",
       "      <th>Store</th>\n",
       "      <th>Dept</th>\n",
       "      <th>Date</th>\n",
       "      <th>Weekly_Sales</th>\n",
       "      <th>IsHoliday_x</th>\n",
       "      <th>Temperature</th>\n",
       "      <th>Fuel_Price</th>\n",
       "      <th>MarkDown1</th>\n",
       "      <th>MarkDown2</th>\n",
       "      <th>MarkDown3</th>\n",
       "      <th>MarkDown4</th>\n",
       "      <th>MarkDown5</th>\n",
       "      <th>CPI</th>\n",
       "      <th>Unemployment</th>\n",
       "      <th>IsHoliday_y</th>\n",
       "      <th>Type</th>\n",
       "      <th>Size</th>\n",
       "    </tr>\n",
       "  </thead>\n",
       "  <tbody>\n",
       "    <tr>\n",
       "      <th>0</th>\n",
       "      <td>1</td>\n",
       "      <td>1</td>\n",
       "      <td>2010-02-05</td>\n",
       "      <td>24924.50</td>\n",
       "      <td>False</td>\n",
       "      <td>42.31</td>\n",
       "      <td>2.572</td>\n",
       "      <td>NaN</td>\n",
       "      <td>NaN</td>\n",
       "      <td>NaN</td>\n",
       "      <td>NaN</td>\n",
       "      <td>NaN</td>\n",
       "      <td>211.096358</td>\n",
       "      <td>8.106</td>\n",
       "      <td>False</td>\n",
       "      <td>A</td>\n",
       "      <td>151315</td>\n",
       "    </tr>\n",
       "    <tr>\n",
       "      <th>1</th>\n",
       "      <td>1</td>\n",
       "      <td>1</td>\n",
       "      <td>2010-02-12</td>\n",
       "      <td>46039.49</td>\n",
       "      <td>True</td>\n",
       "      <td>38.51</td>\n",
       "      <td>2.548</td>\n",
       "      <td>NaN</td>\n",
       "      <td>NaN</td>\n",
       "      <td>NaN</td>\n",
       "      <td>NaN</td>\n",
       "      <td>NaN</td>\n",
       "      <td>211.242170</td>\n",
       "      <td>8.106</td>\n",
       "      <td>True</td>\n",
       "      <td>A</td>\n",
       "      <td>151315</td>\n",
       "    </tr>\n",
       "    <tr>\n",
       "      <th>2</th>\n",
       "      <td>1</td>\n",
       "      <td>1</td>\n",
       "      <td>2010-02-19</td>\n",
       "      <td>41595.55</td>\n",
       "      <td>False</td>\n",
       "      <td>39.93</td>\n",
       "      <td>2.514</td>\n",
       "      <td>NaN</td>\n",
       "      <td>NaN</td>\n",
       "      <td>NaN</td>\n",
       "      <td>NaN</td>\n",
       "      <td>NaN</td>\n",
       "      <td>211.289143</td>\n",
       "      <td>8.106</td>\n",
       "      <td>False</td>\n",
       "      <td>A</td>\n",
       "      <td>151315</td>\n",
       "    </tr>\n",
       "    <tr>\n",
       "      <th>3</th>\n",
       "      <td>1</td>\n",
       "      <td>1</td>\n",
       "      <td>2010-02-26</td>\n",
       "      <td>19403.54</td>\n",
       "      <td>False</td>\n",
       "      <td>46.63</td>\n",
       "      <td>2.561</td>\n",
       "      <td>NaN</td>\n",
       "      <td>NaN</td>\n",
       "      <td>NaN</td>\n",
       "      <td>NaN</td>\n",
       "      <td>NaN</td>\n",
       "      <td>211.319643</td>\n",
       "      <td>8.106</td>\n",
       "      <td>False</td>\n",
       "      <td>A</td>\n",
       "      <td>151315</td>\n",
       "    </tr>\n",
       "    <tr>\n",
       "      <th>4</th>\n",
       "      <td>1</td>\n",
       "      <td>1</td>\n",
       "      <td>2010-03-05</td>\n",
       "      <td>21827.90</td>\n",
       "      <td>False</td>\n",
       "      <td>46.50</td>\n",
       "      <td>2.625</td>\n",
       "      <td>NaN</td>\n",
       "      <td>NaN</td>\n",
       "      <td>NaN</td>\n",
       "      <td>NaN</td>\n",
       "      <td>NaN</td>\n",
       "      <td>211.350143</td>\n",
       "      <td>8.106</td>\n",
       "      <td>False</td>\n",
       "      <td>A</td>\n",
       "      <td>151315</td>\n",
       "    </tr>\n",
       "  </tbody>\n",
       "</table>\n",
       "</div>"
      ],
      "text/plain": [
       "   Store  Dept        Date  Weekly_Sales  IsHoliday_x  Temperature  \\\n",
       "0      1     1  2010-02-05      24924.50        False        42.31   \n",
       "1      1     1  2010-02-12      46039.49         True        38.51   \n",
       "2      1     1  2010-02-19      41595.55        False        39.93   \n",
       "3      1     1  2010-02-26      19403.54        False        46.63   \n",
       "4      1     1  2010-03-05      21827.90        False        46.50   \n",
       "\n",
       "   Fuel_Price  MarkDown1  MarkDown2  MarkDown3  MarkDown4  MarkDown5  \\\n",
       "0       2.572        NaN        NaN        NaN        NaN        NaN   \n",
       "1       2.548        NaN        NaN        NaN        NaN        NaN   \n",
       "2       2.514        NaN        NaN        NaN        NaN        NaN   \n",
       "3       2.561        NaN        NaN        NaN        NaN        NaN   \n",
       "4       2.625        NaN        NaN        NaN        NaN        NaN   \n",
       "\n",
       "          CPI  Unemployment  IsHoliday_y Type    Size  \n",
       "0  211.096358         8.106        False    A  151315  \n",
       "1  211.242170         8.106         True    A  151315  \n",
       "2  211.289143         8.106        False    A  151315  \n",
       "3  211.319643         8.106        False    A  151315  \n",
       "4  211.350143         8.106        False    A  151315  "
      ]
     },
     "execution_count": 10,
     "metadata": {},
     "output_type": "execute_result"
    }
   ],
   "source": [
    "df = df_train.merge(df_features ,on=['Store','Date'], how = 'inner').merge(df_store,on=['Store'],how='inner')\n",
    "df.head()"
   ]
  },
  {
   "cell_type": "code",
   "execution_count": 11,
   "id": "445a96f0-e931-4e6f-95d4-f1797a8679c5",
   "metadata": {},
   "outputs": [
    {
     "data": {
      "text/html": [
       "<div>\n",
       "<style scoped>\n",
       "    .dataframe tbody tr th:only-of-type {\n",
       "        vertical-align: middle;\n",
       "    }\n",
       "\n",
       "    .dataframe tbody tr th {\n",
       "        vertical-align: top;\n",
       "    }\n",
       "\n",
       "    .dataframe thead th {\n",
       "        text-align: right;\n",
       "    }\n",
       "</style>\n",
       "<table border=\"1\" class=\"dataframe\">\n",
       "  <thead>\n",
       "    <tr style=\"text-align: right;\">\n",
       "      <th></th>\n",
       "      <th>index</th>\n",
       "      <th>0</th>\n",
       "    </tr>\n",
       "  </thead>\n",
       "  <tbody>\n",
       "    <tr>\n",
       "      <th>0</th>\n",
       "      <td>Store</td>\n",
       "      <td>0</td>\n",
       "    </tr>\n",
       "    <tr>\n",
       "      <th>1</th>\n",
       "      <td>Dept</td>\n",
       "      <td>0</td>\n",
       "    </tr>\n",
       "    <tr>\n",
       "      <th>2</th>\n",
       "      <td>Date</td>\n",
       "      <td>0</td>\n",
       "    </tr>\n",
       "    <tr>\n",
       "      <th>3</th>\n",
       "      <td>Weekly_Sales</td>\n",
       "      <td>0</td>\n",
       "    </tr>\n",
       "    <tr>\n",
       "      <th>4</th>\n",
       "      <td>IsHoliday</td>\n",
       "      <td>0</td>\n",
       "    </tr>\n",
       "  </tbody>\n",
       "</table>\n",
       "</div>"
      ],
      "text/plain": [
       "          index  0\n",
       "0         Store  0\n",
       "1          Dept  0\n",
       "2          Date  0\n",
       "3  Weekly_Sales  0\n",
       "4     IsHoliday  0"
      ]
     },
     "execution_count": 11,
     "metadata": {},
     "output_type": "execute_result"
    }
   ],
   "source": [
    "df_train.isnull().sum().reset_index()"
   ]
  },
  {
   "cell_type": "code",
   "execution_count": 12,
   "id": "0e7a62f8-2058-4309-ad60-b6e1ab31a830",
   "metadata": {},
   "outputs": [
    {
     "data": {
      "text/html": [
       "<div>\n",
       "<style scoped>\n",
       "    .dataframe tbody tr th:only-of-type {\n",
       "        vertical-align: middle;\n",
       "    }\n",
       "\n",
       "    .dataframe tbody tr th {\n",
       "        vertical-align: top;\n",
       "    }\n",
       "\n",
       "    .dataframe thead th {\n",
       "        text-align: right;\n",
       "    }\n",
       "</style>\n",
       "<table border=\"1\" class=\"dataframe\">\n",
       "  <thead>\n",
       "    <tr style=\"text-align: right;\">\n",
       "      <th></th>\n",
       "      <th>index</th>\n",
       "      <th>0</th>\n",
       "    </tr>\n",
       "  </thead>\n",
       "  <tbody>\n",
       "    <tr>\n",
       "      <th>0</th>\n",
       "      <td>Store</td>\n",
       "      <td>0</td>\n",
       "    </tr>\n",
       "    <tr>\n",
       "      <th>1</th>\n",
       "      <td>Type</td>\n",
       "      <td>0</td>\n",
       "    </tr>\n",
       "    <tr>\n",
       "      <th>2</th>\n",
       "      <td>Size</td>\n",
       "      <td>0</td>\n",
       "    </tr>\n",
       "  </tbody>\n",
       "</table>\n",
       "</div>"
      ],
      "text/plain": [
       "   index  0\n",
       "0  Store  0\n",
       "1   Type  0\n",
       "2   Size  0"
      ]
     },
     "execution_count": 12,
     "metadata": {},
     "output_type": "execute_result"
    }
   ],
   "source": [
    "df_store.isnull().sum().reset_index()"
   ]
  },
  {
   "cell_type": "code",
   "execution_count": 13,
   "id": "9919a452-64f0-49f0-9227-ddf63d8ca436",
   "metadata": {},
   "outputs": [
    {
     "data": {
      "text/html": [
       "<div>\n",
       "<style scoped>\n",
       "    .dataframe tbody tr th:only-of-type {\n",
       "        vertical-align: middle;\n",
       "    }\n",
       "\n",
       "    .dataframe tbody tr th {\n",
       "        vertical-align: top;\n",
       "    }\n",
       "\n",
       "    .dataframe thead th {\n",
       "        text-align: right;\n",
       "    }\n",
       "</style>\n",
       "<table border=\"1\" class=\"dataframe\">\n",
       "  <thead>\n",
       "    <tr style=\"text-align: right;\">\n",
       "      <th></th>\n",
       "      <th>index</th>\n",
       "      <th>0</th>\n",
       "    </tr>\n",
       "  </thead>\n",
       "  <tbody>\n",
       "    <tr>\n",
       "      <th>0</th>\n",
       "      <td>Store</td>\n",
       "      <td>0</td>\n",
       "    </tr>\n",
       "    <tr>\n",
       "      <th>1</th>\n",
       "      <td>Date</td>\n",
       "      <td>0</td>\n",
       "    </tr>\n",
       "    <tr>\n",
       "      <th>2</th>\n",
       "      <td>Temperature</td>\n",
       "      <td>0</td>\n",
       "    </tr>\n",
       "    <tr>\n",
       "      <th>3</th>\n",
       "      <td>Fuel_Price</td>\n",
       "      <td>0</td>\n",
       "    </tr>\n",
       "    <tr>\n",
       "      <th>4</th>\n",
       "      <td>MarkDown1</td>\n",
       "      <td>4158</td>\n",
       "    </tr>\n",
       "    <tr>\n",
       "      <th>5</th>\n",
       "      <td>MarkDown2</td>\n",
       "      <td>5269</td>\n",
       "    </tr>\n",
       "    <tr>\n",
       "      <th>6</th>\n",
       "      <td>MarkDown3</td>\n",
       "      <td>4577</td>\n",
       "    </tr>\n",
       "    <tr>\n",
       "      <th>7</th>\n",
       "      <td>MarkDown4</td>\n",
       "      <td>4726</td>\n",
       "    </tr>\n",
       "    <tr>\n",
       "      <th>8</th>\n",
       "      <td>MarkDown5</td>\n",
       "      <td>4140</td>\n",
       "    </tr>\n",
       "    <tr>\n",
       "      <th>9</th>\n",
       "      <td>CPI</td>\n",
       "      <td>585</td>\n",
       "    </tr>\n",
       "    <tr>\n",
       "      <th>10</th>\n",
       "      <td>Unemployment</td>\n",
       "      <td>585</td>\n",
       "    </tr>\n",
       "    <tr>\n",
       "      <th>11</th>\n",
       "      <td>IsHoliday</td>\n",
       "      <td>0</td>\n",
       "    </tr>\n",
       "  </tbody>\n",
       "</table>\n",
       "</div>"
      ],
      "text/plain": [
       "           index     0\n",
       "0          Store     0\n",
       "1           Date     0\n",
       "2    Temperature     0\n",
       "3     Fuel_Price     0\n",
       "4      MarkDown1  4158\n",
       "5      MarkDown2  5269\n",
       "6      MarkDown3  4577\n",
       "7      MarkDown4  4726\n",
       "8      MarkDown5  4140\n",
       "9            CPI   585\n",
       "10  Unemployment   585\n",
       "11     IsHoliday     0"
      ]
     },
     "execution_count": 13,
     "metadata": {},
     "output_type": "execute_result"
    }
   ],
   "source": [
    "df_features.isnull().sum().reset_index()"
   ]
  },
  {
   "cell_type": "code",
   "execution_count": 14,
   "id": "b9292c71-d366-4d98-9d8e-66fc0e26662c",
   "metadata": {},
   "outputs": [
    {
     "data": {
      "text/plain": [
       "(421570, 17)"
      ]
     },
     "execution_count": 14,
     "metadata": {},
     "output_type": "execute_result"
    }
   ],
   "source": [
    "df.shape"
   ]
  },
  {
   "cell_type": "code",
   "execution_count": 15,
   "id": "9b4662b1-800b-4b2b-a945-04ba198426c3",
   "metadata": {},
   "outputs": [
    {
     "data": {
      "text/plain": [
       "45"
      ]
     },
     "execution_count": 15,
     "metadata": {},
     "output_type": "execute_result"
    }
   ],
   "source": [
    "df['Store'].nunique()"
   ]
  },
  {
   "cell_type": "code",
   "execution_count": 16,
   "id": "cea81fac-98db-472f-8fdb-1cb98b2d81ea",
   "metadata": {},
   "outputs": [
    {
     "data": {
      "text/plain": [
       "81"
      ]
     },
     "execution_count": 16,
     "metadata": {},
     "output_type": "execute_result"
    }
   ],
   "source": [
    "df['Dept'].nunique()"
   ]
  },
  {
   "cell_type": "code",
   "execution_count": 19,
   "id": "653dda30-8e7d-4ccf-9205-e82ef9e5060d",
   "metadata": {
    "scrolled": true
   },
   "outputs": [
    {
     "name": "stdout",
     "output_type": "stream",
     "text": [
      "Dept  Store             1              2             3             4  \\\n",
      "0         1  22513.322937   46102.090420  13150.478042  36964.154476   \n",
      "1         2  30777.980769   65912.922517  17476.563357  45607.666573   \n",
      "2         3   7328.621049   16841.775664   5509.300769   8434.186503   \n",
      "3         4  36979.940070   93639.315385  19012.491678  56603.400140   \n",
      "4         5   9774.553077   12317.953287   4101.085175   9860.806783   \n",
      "5         6  23867.553776   50269.437273  16806.638811  34187.366503   \n",
      "6         7   9542.801259   22603.690769   8633.536923  14950.518601   \n",
      "7         8  14789.827343   35729.821748  10683.305105  21089.309301   \n",
      "8         9  11846.558252   24969.477413   7497.356783  17165.947762   \n",
      "9        10  39925.138951  109795.291469  32086.181469  48579.826364   \n",
      "10       11  18860.911958   57114.326224  17628.778671  28837.744545   \n",
      "11       12  17330.087622   74494.846224  17535.251678  26673.788182   \n",
      "12       13  47020.455455   76339.960000  26116.623706  42563.275455   \n",
      "13       14  30611.783357   77704.857972  19418.273986  52936.323287   \n",
      "14       15  13845.747832   26317.410769  10470.811958  13082.172448   \n",
      "15       16  11352.479371   23549.144965   7635.427273  14748.078112   \n",
      "16       17  22801.609161   42231.844406  19278.955035  23961.357273   \n",
      "17       18  21988.356224   63665.139510  16392.980490  26775.207203   \n",
      "18       19  21504.029161   50841.072937  18414.224476  31365.545315   \n",
      "19       20  40545.473217   78251.249930  15490.971259  51456.376643   \n",
      "20       21  14950.049231   47780.599161  14607.126923  19354.728042   \n",
      "21       22  21493.271119   53361.851888  13150.979510  32104.132378   \n",
      "22       23  33186.460559   70522.580140  19912.564755  27324.303077   \n",
      "23       24  18859.023357   40797.169301  11825.589021  29245.357552   \n",
      "24       25  20145.897483   36871.310559  11788.130979  20351.455455   \n",
      "25       26  19402.762937   27398.030979   7357.400769  24498.113846   \n",
      "26       27  30437.976224   79001.049161  20226.734615  43596.933916   \n",
      "27       28  20180.453986   57751.274336  12562.223287  27980.817203   \n",
      "28       29  15504.699580   25181.662727   7995.955804  14326.216224   \n",
      "29       30   9788.376643   12974.464476    739.981888  13216.100909   \n",
      "30       31  17356.652448   58512.131538  10616.675944  34848.899231   \n",
      "31       32  22852.639510   50323.497343  15472.540140  28137.154965   \n",
      "32       33   2379.086573    7471.425105    283.950140   6107.616014   \n",
      "33       34  19947.573077   34916.225874   8377.376434  19791.509021   \n",
      "34       35  17082.647902   45578.456224  14308.382797  19495.631119   \n",
      "35       36   2239.227413   13416.025664    381.324266   9873.505105   \n",
      "36       37  11024.235874   16511.446224   1297.862028  17614.013636   \n",
      "37       38   6923.538531   10986.172657    498.700210  10669.501329   \n",
      "38       39  21925.021189   67338.429371  20569.701608  44807.515105   \n",
      "39       40  18794.578811   26702.705175   6489.030350  24386.750559   \n",
      "40       41  23205.259930   48349.828951  17021.833357  30538.574895   \n",
      "41       42  10375.148392   15976.902448    814.451189  14885.264755   \n",
      "42       43   7549.109021   20722.851469    999.648881  18227.382168   \n",
      "43       44   8049.992308    9377.273007    571.016713   7403.959580   \n",
      "44       45  17745.916014   35800.912448   9508.014965  24229.873147   \n",
      "\n",
      "Dept             5             6             7             8             9  \\\n",
      "0     24257.941119   4801.780140  24566.487413  35718.257622  28062.052238   \n",
      "1     30555.315315   6808.382517  40477.837063  58707.369441  34375.864476   \n",
      "2     11695.366573   2012.411818  10044.341608   8310.254196   9062.007692   \n",
      "3     45668.406783   8241.777692  50728.151399  62949.723776  34437.170979   \n",
      "4      6699.202238   1191.057622   6124.484336  13735.709441   7919.805944   \n",
      "5     34465.307622   7225.566643  34526.870420  47577.719790  48271.060140   \n",
      "6     13860.350490   6329.928811  10925.757063  13970.619371  29722.736084   \n",
      "7     19838.849231   3395.425455  20268.743776  26438.524336  11792.661678   \n",
      "8     19282.746014   2806.416364  13826.694336  21424.470699  13196.569720   \n",
      "9     58373.460280  10556.550769  58964.715664  86739.846643  64436.722517   \n",
      "10    36663.363916   5925.281678  34844.108462  34415.449580  19056.162168   \n",
      "11    27756.204615   6741.174895  34242.449161  42229.665035  19553.030490   \n",
      "12    56786.934755   7886.826993  59896.738601  36238.867972  41236.445175   \n",
      "13    33468.325035   7016.829790  53256.150280  53425.359860  22025.603497   \n",
      "14    16465.706993   4244.143776  22267.220070  20416.967273  15954.692937   \n",
      "15    13494.538671   5146.038951  11544.310140  14676.778322  28990.377343   \n",
      "16    27082.325594   5944.435245  19474.770559  20110.270839  27293.658042   \n",
      "17    22933.954965   5664.913077  33152.347203  32036.582098  18589.371259   \n",
      "18    28759.223846   5948.962867  33882.926853  42613.662937  30645.018112   \n",
      "19    41647.786503   8210.745734  49394.699231  76445.061259  38243.623916   \n",
      "20    16090.874545   3988.656294  24456.825664  18238.059790  16387.963636   \n",
      "21    23187.335105   5236.811329  29068.621608  37236.347692  23452.908881   \n",
      "22    36895.869021   7393.499650  43624.067413  36710.240909  50178.361748   \n",
      "23    29178.058811   4911.185804  28788.329441  49171.841748  23246.748322   \n",
      "24    12422.996434   3760.045035  17971.439580  29858.353636  14636.113636   \n",
      "25    17589.532587   4656.670490  16287.658531  28694.950909  16556.330769   \n",
      "26    28059.038252   7730.729091  43272.914965  42181.469580  29315.697133   \n",
      "27    28221.618392   5016.258671  29228.446923  33375.575524  17930.710070   \n",
      "28    12931.821259   3289.884965  16854.082238  20680.465944  11370.866364   \n",
      "29      405.565944     27.303937    379.771958  11733.993776     76.845352   \n",
      "30    18715.630769   3489.809441  21012.438531  25277.976713  10815.516713   \n",
      "31    20748.371888   4589.748392  25375.036993  24681.349580  20739.684685   \n",
      "32      112.728310     11.996538    392.912867   3679.792168     42.788348   \n",
      "33    21633.900559   3419.062028  18055.491608  27165.013147  17224.253497   \n",
      "34    24858.433706   7256.417133  30267.589790  18416.401678  15657.032937   \n",
      "35      314.753982     26.291579    414.428322   3417.640420    102.211739   \n",
      "36     1137.631189     46.313630    824.978392  16151.397902    151.233803   \n",
      "37      397.418322     37.014855    413.539021   9485.399441     77.520350   \n",
      "38    24043.436783   4911.540420  40020.492867  36130.641608  19396.117692   \n",
      "39    17689.671678   4003.068601  18898.214336  33971.532238  19065.436294   \n",
      "40    25513.943776   5267.832098  33711.105734  33729.081678  32743.470140   \n",
      "41     1052.296783      3.333333    721.913846  18238.584196    135.524056   \n",
      "42      575.417326     37.843246    516.772867  13185.211678    147.694196   \n",
      "43      960.670490     34.648722    531.034895   4963.966224     99.817273   \n",
      "44    16107.063077   3554.222657  23757.771538  34050.409580  15485.885804   \n",
      "\n",
      "Dept  ...             90            91             92            93  \\\n",
      "0     ...   82427.547832  64238.943427  135458.969510  71699.182378   \n",
      "1     ...   97611.537133  80610.380350  164840.230979  70581.977063   \n",
      "2     ...    1540.049161    318.685594    7568.280210           NaN   \n",
      "3     ...   89248.965524  66535.407203  159365.107902  67815.163007   \n",
      "4     ...    3059.520000   1457.221678    7759.205594           NaN   \n",
      "5     ...   53715.366084  45270.405175   99024.796503  41359.651189   \n",
      "6     ...   13858.405874  10263.880000   26530.890559   1328.178252   \n",
      "7     ...   39333.566154  31530.560909   60465.630000  27515.635315   \n",
      "8     ...    2981.249510    869.273287   14123.063147     21.240000   \n",
      "9     ...   14291.869790  12703.554406   50450.731958   1420.418462   \n",
      "10    ...   48995.984196  42030.370699   77392.741608  32623.853706   \n",
      "11    ...   11060.175455   6779.841469   24682.599161    562.897203   \n",
      "12    ...  115592.108042  81272.990979  162034.099301  50024.937203   \n",
      "13    ...  107174.743986  91406.434615  182527.956014  62088.622937   \n",
      "14    ...    5345.240420   3414.740909   18262.376853    422.878252   \n",
      "15    ...    6922.744685   3331.204965   20446.967832    997.032281   \n",
      "16    ...   31293.306224  12033.678951   53043.348741   3646.955664   \n",
      "17    ...   18481.394266  14124.482517   50079.623636   2113.300147   \n",
      "18    ...   67545.406434  54692.797413  113720.212937  37087.937063   \n",
      "19    ...   95858.587343  78493.190140  164633.741538  52818.583706   \n",
      "20    ...   10983.598741   6735.454126   21915.114965    663.384126   \n",
      "21    ...   21413.411608  21405.250629   51603.339091   2531.663986   \n",
      "22    ...   20814.992168  19604.867692   59604.574615   2111.610780   \n",
      "23    ...   72650.442867  52435.498252  121882.073916  37876.836853   \n",
      "24    ...   11932.596503   7767.272098   38854.460699    777.747483   \n",
      "25    ...   57016.589231  39434.281259   84988.311818  25615.331469   \n",
      "26    ...   96374.536573  66687.096573  146518.141399  54910.693776   \n",
      "27    ...   65285.952098  57575.601119   98486.960350  47923.508671   \n",
      "28    ...   10950.327972   4691.213217   25166.714266   1190.882098   \n",
      "29    ...   34622.986224  31576.583986   53256.041399  22409.698392   \n",
      "30    ...   86167.265804  70232.133566  127010.118601  57876.205664   \n",
      "31    ...   61639.637133  48368.756154  100122.929021  30732.226923   \n",
      "32    ...   24899.923147   9862.862867   34227.662867  25648.054266   \n",
      "33    ...   44338.936783  34018.102238   67782.520909  29590.111329   \n",
      "34    ...   12960.450210   7919.080140   33776.032028   1528.451469   \n",
      "35    ...   35474.191958  11097.875874   44539.564476  26103.315664   \n",
      "36    ...   44144.428112  30870.677063   59440.577133  21599.851049   \n",
      "37    ...   34765.576783  25404.860420   45314.434825  18868.919091   \n",
      "38    ...   78649.534685  60386.286014  110126.209580  39684.510000   \n",
      "39    ...   61258.202867  43256.156853   96475.753287  27532.751189   \n",
      "40    ...   70852.021818  52714.928462  115827.664056  35415.340000   \n",
      "41    ...   53384.897902  42913.221259   83497.778671  32852.632308   \n",
      "42    ...   63668.895594  34808.442168   83646.160909  36196.693217   \n",
      "43    ...   31182.601818  18169.510070   39619.563287  11029.915734   \n",
      "44    ...   23674.035245  16641.927343   48125.897762   2728.627133   \n",
      "\n",
      "Dept            94             95            96            97            98  \\\n",
      "0     63180.568182  120772.062168  33251.831639  35207.348811  11827.770769   \n",
      "1     70018.672517  143588.751888  34319.063846  40697.204056  14035.400839   \n",
      "2       656.294444   15745.528252   3934.540000    343.437357     30.570833   \n",
      "3     68159.106573  147236.473706  38346.573077  39339.238951  15009.249371   \n",
      "4       411.431486   19340.693986   5985.671119    667.070315     29.976087   \n",
      "5     41701.693497   89208.786294  30450.542238  20637.667063   9728.100629   \n",
      "6       699.332522   34208.097273   1123.383217   4374.927902    260.886596   \n",
      "7     25442.578042   62951.463706     16.986667  16978.366503   6880.466434   \n",
      "8       599.112568   29575.050769   3596.107762    372.655556     27.930000   \n",
      "9       393.833168   73344.654685  11079.676643   5323.506503    198.179091   \n",
      "10    37474.038531   77487.279091  21685.298811  16596.197552   9570.351469   \n",
      "11      355.264000   43405.853357      6.441176   2394.894755    747.609860   \n",
      "12    75522.874406  136844.834056   9165.079930  27556.759231  14980.825385   \n",
      "13    64541.165664  144446.932517      5.193846  25684.497762  17768.013706   \n",
      "14      272.906250   27291.017133   2784.158881   2071.211888    273.504884   \n",
      "15      673.280928   27385.769231    126.934126   2116.696993     42.618571   \n",
      "16      855.782273   50614.958462    819.416458   7798.283427    169.379120   \n",
      "17     4880.242248   57668.251748      0.481333   5350.500432    881.150853   \n",
      "18    37643.786434   97240.503566  15860.814825  20370.269720  12884.229091   \n",
      "19    63148.334965  150613.955385     15.266875  25836.062238  19284.377343   \n",
      "20      537.663333   40379.295175      2.000000   3260.404685    111.680672   \n",
      "21      857.190894   57868.571119      6.243000   4582.594755    177.560576   \n",
      "22      374.898804   54199.088322  13168.146713   6149.684755    100.585083   \n",
      "23    51850.045105   93927.992098  13623.074615  18597.824126   9878.970140   \n",
      "24     2607.109754   43991.147692     -1.270000   2706.628252    665.919779   \n",
      "25    42544.202028   70236.827622  18596.331888  14830.084825   8025.948601   \n",
      "26    69638.930420  119519.410909  20806.990909  21268.805734  11524.137832   \n",
      "27    36164.364615   96322.113846  26288.955734  23828.861329  10673.133077   \n",
      "28      263.083012   30980.395594     11.800000   2131.676783    139.677971   \n",
      "29    24522.622587   45456.508322  19163.112028  13172.531119   3207.034685   \n",
      "30    68732.141818  106696.019231  30335.294266  31144.978112  10101.886713   \n",
      "31    48650.040979   84695.234196   2308.411818  17160.310000   7939.262378   \n",
      "32    29002.624476   27022.949161   9371.822168   5375.769510   7340.692168   \n",
      "33    37428.096923   69245.187972  19154.212308  17570.577483   7775.998182   \n",
      "34      200.270435   43286.536993     10.788333   3738.292517     68.284831   \n",
      "35    47372.151119   39735.688741  15683.341818   6469.273636   9009.943776   \n",
      "36    33656.648112   51410.551119  20375.380769  13960.701399   5286.761119   \n",
      "37    21331.411259   41793.649021  11981.676643   9902.368182   4783.086713   \n",
      "38    59830.190280  103036.757133  27089.158601  23993.406853   9767.295734   \n",
      "39    38210.900699   66572.881259  15309.077972  17131.033497   8178.371049   \n",
      "40    47218.529161   88666.468392   2883.492238  19789.219231   9371.531608   \n",
      "41    35724.612098   61205.272308  15183.474196  17495.198811   6540.721259   \n",
      "42    50769.708322   72883.223287  25058.369371  19349.989930   9594.867483   \n",
      "43    23812.046993   31100.185175   2834.139580   6636.467413   3466.077063   \n",
      "44     3690.272090   52896.166643      2.970000   6466.961888    561.239037   \n",
      "\n",
      "Dept          99  \n",
      "0     306.091081  \n",
      "1     475.896905  \n",
      "2            NaN  \n",
      "3     623.182381  \n",
      "4            NaN  \n",
      "5     388.636750  \n",
      "6      15.000000  \n",
      "7     298.153714  \n",
      "8            NaN  \n",
      "9            NaN  \n",
      "10    520.938125  \n",
      "11     29.880000  \n",
      "12    732.604651  \n",
      "13    635.556047  \n",
      "14     29.880000  \n",
      "15     59.760000  \n",
      "16      2.290000  \n",
      "17     12.560000  \n",
      "18    440.374878  \n",
      "19    796.153864  \n",
      "20     29.880000  \n",
      "21     27.150000  \n",
      "22     29.880000  \n",
      "23    413.774211  \n",
      "24           NaN  \n",
      "25    221.950278  \n",
      "26    562.980000  \n",
      "27    316.605610  \n",
      "28     29.880000  \n",
      "29     -0.641818  \n",
      "30    218.742203  \n",
      "31    379.147250  \n",
      "32      0.022000  \n",
      "33    347.144324  \n",
      "34           NaN  \n",
      "35      0.020000  \n",
      "36     15.000000  \n",
      "37     25.000000  \n",
      "38    334.869756  \n",
      "39    167.374167  \n",
      "40    443.736512  \n",
      "41           NaN  \n",
      "42     26.250000  \n",
      "43      3.505000  \n",
      "44           NaN  \n",
      "\n",
      "[45 rows x 82 columns]\n"
     ]
    },
    {
     "name": "stderr",
     "output_type": "stream",
     "text": [
      "C:\\Users\\ASUS\\AppData\\Local\\Temp\\ipykernel_13840\\3782470193.py:1: FutureWarning: The provided callable <function mean at 0x000001F32AB340E0> is currently using DataFrameGroupBy.mean. In a future version of pandas, the provided callable will be used directly. To keep current behavior pass the string \"mean\" instead.\n",
      "  store_dept_table = pd.pivot_table(df,index='Store',columns='Dept',values='Weekly_Sales',aggfunc=np.mean).reset_index()\n"
     ]
    }
   ],
   "source": [
    "store_dept_table = pd.pivot_table(df,index='Store',columns='Dept',values='Weekly_Sales',aggfunc=np.mean).reset_index()\n",
    "print(store_dept_table)"
   ]
  },
  {
   "cell_type": "code",
   "execution_count": 23,
   "id": "4eccdea1-a13f-4371-9c1b-a3632dba7368",
   "metadata": {},
   "outputs": [
    {
     "data": {
      "text/html": [
       "<div>\n",
       "<style scoped>\n",
       "    .dataframe tbody tr th:only-of-type {\n",
       "        vertical-align: middle;\n",
       "    }\n",
       "\n",
       "    .dataframe tbody tr th {\n",
       "        vertical-align: top;\n",
       "    }\n",
       "\n",
       "    .dataframe thead th {\n",
       "        text-align: right;\n",
       "    }\n",
       "</style>\n",
       "<table border=\"1\" class=\"dataframe\">\n",
       "  <thead>\n",
       "    <tr style=\"text-align: right;\">\n",
       "      <th></th>\n",
       "      <th>Store</th>\n",
       "      <th>Dept</th>\n",
       "      <th>Date</th>\n",
       "      <th>Weekly_Sales</th>\n",
       "      <th>IsHoliday_x</th>\n",
       "      <th>Temperature</th>\n",
       "      <th>Fuel_Price</th>\n",
       "      <th>MarkDown1</th>\n",
       "      <th>MarkDown2</th>\n",
       "      <th>MarkDown3</th>\n",
       "      <th>MarkDown4</th>\n",
       "      <th>MarkDown5</th>\n",
       "      <th>CPI</th>\n",
       "      <th>Unemployment</th>\n",
       "      <th>IsHoliday_y</th>\n",
       "      <th>Type</th>\n",
       "      <th>Size</th>\n",
       "    </tr>\n",
       "  </thead>\n",
       "  <tbody>\n",
       "    <tr>\n",
       "      <th>846</th>\n",
       "      <td>1</td>\n",
       "      <td>6</td>\n",
       "      <td>2012-08-10</td>\n",
       "      <td>-139.65</td>\n",
       "      <td>False</td>\n",
       "      <td>85.05</td>\n",
       "      <td>3.494</td>\n",
       "      <td>11436.22</td>\n",
       "      <td>245.0</td>\n",
       "      <td>6.85</td>\n",
       "      <td>6964.26</td>\n",
       "      <td>4836.22</td>\n",
       "      <td>221.958433</td>\n",
       "      <td>6.908</td>\n",
       "      <td>False</td>\n",
       "      <td>A</td>\n",
       "      <td>151315</td>\n",
       "    </tr>\n",
       "    <tr>\n",
       "      <th>2384</th>\n",
       "      <td>1</td>\n",
       "      <td>18</td>\n",
       "      <td>2012-05-04</td>\n",
       "      <td>-1.27</td>\n",
       "      <td>False</td>\n",
       "      <td>75.55</td>\n",
       "      <td>3.749</td>\n",
       "      <td>21290.13</td>\n",
       "      <td>NaN</td>\n",
       "      <td>69.89</td>\n",
       "      <td>4977.35</td>\n",
       "      <td>3261.04</td>\n",
       "      <td>221.671800</td>\n",
       "      <td>7.143</td>\n",
       "      <td>False</td>\n",
       "      <td>A</td>\n",
       "      <td>151315</td>\n",
       "    </tr>\n",
       "    <tr>\n",
       "      <th>6048</th>\n",
       "      <td>1</td>\n",
       "      <td>47</td>\n",
       "      <td>2010-02-19</td>\n",
       "      <td>-863.00</td>\n",
       "      <td>False</td>\n",
       "      <td>39.93</td>\n",
       "      <td>2.514</td>\n",
       "      <td>NaN</td>\n",
       "      <td>NaN</td>\n",
       "      <td>NaN</td>\n",
       "      <td>NaN</td>\n",
       "      <td>NaN</td>\n",
       "      <td>211.289143</td>\n",
       "      <td>8.106</td>\n",
       "      <td>False</td>\n",
       "      <td>A</td>\n",
       "      <td>151315</td>\n",
       "    </tr>\n",
       "    <tr>\n",
       "      <th>6049</th>\n",
       "      <td>1</td>\n",
       "      <td>47</td>\n",
       "      <td>2010-03-12</td>\n",
       "      <td>-698.00</td>\n",
       "      <td>False</td>\n",
       "      <td>57.79</td>\n",
       "      <td>2.667</td>\n",
       "      <td>NaN</td>\n",
       "      <td>NaN</td>\n",
       "      <td>NaN</td>\n",
       "      <td>NaN</td>\n",
       "      <td>NaN</td>\n",
       "      <td>211.380643</td>\n",
       "      <td>8.106</td>\n",
       "      <td>False</td>\n",
       "      <td>A</td>\n",
       "      <td>151315</td>\n",
       "    </tr>\n",
       "    <tr>\n",
       "      <th>6051</th>\n",
       "      <td>1</td>\n",
       "      <td>47</td>\n",
       "      <td>2010-10-08</td>\n",
       "      <td>-58.00</td>\n",
       "      <td>False</td>\n",
       "      <td>63.93</td>\n",
       "      <td>2.633</td>\n",
       "      <td>NaN</td>\n",
       "      <td>NaN</td>\n",
       "      <td>NaN</td>\n",
       "      <td>NaN</td>\n",
       "      <td>NaN</td>\n",
       "      <td>211.746754</td>\n",
       "      <td>7.838</td>\n",
       "      <td>False</td>\n",
       "      <td>A</td>\n",
       "      <td>151315</td>\n",
       "    </tr>\n",
       "    <tr>\n",
       "      <th>...</th>\n",
       "      <td>...</td>\n",
       "      <td>...</td>\n",
       "      <td>...</td>\n",
       "      <td>...</td>\n",
       "      <td>...</td>\n",
       "      <td>...</td>\n",
       "      <td>...</td>\n",
       "      <td>...</td>\n",
       "      <td>...</td>\n",
       "      <td>...</td>\n",
       "      <td>...</td>\n",
       "      <td>...</td>\n",
       "      <td>...</td>\n",
       "      <td>...</td>\n",
       "      <td>...</td>\n",
       "      <td>...</td>\n",
       "      <td>...</td>\n",
       "    </tr>\n",
       "    <tr>\n",
       "      <th>419597</th>\n",
       "      <td>45</td>\n",
       "      <td>80</td>\n",
       "      <td>2010-02-12</td>\n",
       "      <td>-0.43</td>\n",
       "      <td>True</td>\n",
       "      <td>27.73</td>\n",
       "      <td>2.773</td>\n",
       "      <td>NaN</td>\n",
       "      <td>NaN</td>\n",
       "      <td>NaN</td>\n",
       "      <td>NaN</td>\n",
       "      <td>NaN</td>\n",
       "      <td>181.982317</td>\n",
       "      <td>8.992</td>\n",
       "      <td>True</td>\n",
       "      <td>B</td>\n",
       "      <td>118221</td>\n",
       "    </tr>\n",
       "    <tr>\n",
       "      <th>419598</th>\n",
       "      <td>45</td>\n",
       "      <td>80</td>\n",
       "      <td>2010-02-19</td>\n",
       "      <td>-0.27</td>\n",
       "      <td>False</td>\n",
       "      <td>31.27</td>\n",
       "      <td>2.745</td>\n",
       "      <td>NaN</td>\n",
       "      <td>NaN</td>\n",
       "      <td>NaN</td>\n",
       "      <td>NaN</td>\n",
       "      <td>NaN</td>\n",
       "      <td>182.034782</td>\n",
       "      <td>8.992</td>\n",
       "      <td>False</td>\n",
       "      <td>B</td>\n",
       "      <td>118221</td>\n",
       "    </tr>\n",
       "    <tr>\n",
       "      <th>419603</th>\n",
       "      <td>45</td>\n",
       "      <td>80</td>\n",
       "      <td>2010-04-16</td>\n",
       "      <td>-1.61</td>\n",
       "      <td>False</td>\n",
       "      <td>54.28</td>\n",
       "      <td>2.899</td>\n",
       "      <td>NaN</td>\n",
       "      <td>NaN</td>\n",
       "      <td>NaN</td>\n",
       "      <td>NaN</td>\n",
       "      <td>NaN</td>\n",
       "      <td>181.692477</td>\n",
       "      <td>8.899</td>\n",
       "      <td>False</td>\n",
       "      <td>B</td>\n",
       "      <td>118221</td>\n",
       "    </tr>\n",
       "    <tr>\n",
       "      <th>419614</th>\n",
       "      <td>45</td>\n",
       "      <td>80</td>\n",
       "      <td>2010-07-02</td>\n",
       "      <td>-0.27</td>\n",
       "      <td>False</td>\n",
       "      <td>76.61</td>\n",
       "      <td>2.815</td>\n",
       "      <td>NaN</td>\n",
       "      <td>NaN</td>\n",
       "      <td>NaN</td>\n",
       "      <td>NaN</td>\n",
       "      <td>NaN</td>\n",
       "      <td>182.318780</td>\n",
       "      <td>8.743</td>\n",
       "      <td>False</td>\n",
       "      <td>B</td>\n",
       "      <td>118221</td>\n",
       "    </tr>\n",
       "    <tr>\n",
       "      <th>419640</th>\n",
       "      <td>45</td>\n",
       "      <td>80</td>\n",
       "      <td>2011-02-11</td>\n",
       "      <td>-0.24</td>\n",
       "      <td>True</td>\n",
       "      <td>30.30</td>\n",
       "      <td>3.239</td>\n",
       "      <td>NaN</td>\n",
       "      <td>NaN</td>\n",
       "      <td>NaN</td>\n",
       "      <td>NaN</td>\n",
       "      <td>NaN</td>\n",
       "      <td>183.701613</td>\n",
       "      <td>8.549</td>\n",
       "      <td>True</td>\n",
       "      <td>B</td>\n",
       "      <td>118221</td>\n",
       "    </tr>\n",
       "  </tbody>\n",
       "</table>\n",
       "<p>1358 rows × 17 columns</p>\n",
       "</div>"
      ],
      "text/plain": [
       "        Store  Dept        Date  Weekly_Sales  IsHoliday_x  Temperature  \\\n",
       "846         1     6  2012-08-10       -139.65        False        85.05   \n",
       "2384        1    18  2012-05-04         -1.27        False        75.55   \n",
       "6048        1    47  2010-02-19       -863.00        False        39.93   \n",
       "6049        1    47  2010-03-12       -698.00        False        57.79   \n",
       "6051        1    47  2010-10-08        -58.00        False        63.93   \n",
       "...       ...   ...         ...           ...          ...          ...   \n",
       "419597     45    80  2010-02-12         -0.43         True        27.73   \n",
       "419598     45    80  2010-02-19         -0.27        False        31.27   \n",
       "419603     45    80  2010-04-16         -1.61        False        54.28   \n",
       "419614     45    80  2010-07-02         -0.27        False        76.61   \n",
       "419640     45    80  2011-02-11         -0.24         True        30.30   \n",
       "\n",
       "        Fuel_Price  MarkDown1  MarkDown2  MarkDown3  MarkDown4  MarkDown5  \\\n",
       "846          3.494   11436.22      245.0       6.85    6964.26    4836.22   \n",
       "2384         3.749   21290.13        NaN      69.89    4977.35    3261.04   \n",
       "6048         2.514        NaN        NaN        NaN        NaN        NaN   \n",
       "6049         2.667        NaN        NaN        NaN        NaN        NaN   \n",
       "6051         2.633        NaN        NaN        NaN        NaN        NaN   \n",
       "...            ...        ...        ...        ...        ...        ...   \n",
       "419597       2.773        NaN        NaN        NaN        NaN        NaN   \n",
       "419598       2.745        NaN        NaN        NaN        NaN        NaN   \n",
       "419603       2.899        NaN        NaN        NaN        NaN        NaN   \n",
       "419614       2.815        NaN        NaN        NaN        NaN        NaN   \n",
       "419640       3.239        NaN        NaN        NaN        NaN        NaN   \n",
       "\n",
       "               CPI  Unemployment  IsHoliday_y Type    Size  \n",
       "846     221.958433         6.908        False    A  151315  \n",
       "2384    221.671800         7.143        False    A  151315  \n",
       "6048    211.289143         8.106        False    A  151315  \n",
       "6049    211.380643         8.106        False    A  151315  \n",
       "6051    211.746754         7.838        False    A  151315  \n",
       "...            ...           ...          ...  ...     ...  \n",
       "419597  181.982317         8.992         True    B  118221  \n",
       "419598  182.034782         8.992        False    B  118221  \n",
       "419603  181.692477         8.899        False    B  118221  \n",
       "419614  182.318780         8.743        False    B  118221  \n",
       "419640  183.701613         8.549         True    B  118221  \n",
       "\n",
       "[1358 rows x 17 columns]"
      ]
     },
     "execution_count": 23,
     "metadata": {},
     "output_type": "execute_result"
    }
   ],
   "source": [
    "df.loc[df['Weekly_Sales']<=0]"
   ]
  },
  {
   "cell_type": "code",
   "execution_count": 26,
   "id": "d81b331e-d768-439d-9830-064abab50df3",
   "metadata": {},
   "outputs": [],
   "source": [
    "df = df.loc[df['Weekly_Sales']>0]"
   ]
  },
  {
   "cell_type": "code",
   "execution_count": 32,
   "id": "b6e23c09-9f09-4204-b73a-9a1e3e31c491",
   "metadata": {},
   "outputs": [
    {
     "data": {
      "text/plain": [
       "(420212, 17)"
      ]
     },
     "execution_count": 32,
     "metadata": {},
     "output_type": "execute_result"
    }
   ],
   "source": [
    "df.shape"
   ]
  },
  {
   "cell_type": "code",
   "execution_count": 36,
   "id": "f87f32e3-c905-4d52-81b0-233d865a09c1",
   "metadata": {},
   "outputs": [
    {
     "data": {
      "text/html": [
       "<div>\n",
       "<style scoped>\n",
       "    .dataframe tbody tr th:only-of-type {\n",
       "        vertical-align: middle;\n",
       "    }\n",
       "\n",
       "    .dataframe tbody tr th {\n",
       "        vertical-align: top;\n",
       "    }\n",
       "\n",
       "    .dataframe thead th {\n",
       "        text-align: right;\n",
       "    }\n",
       "</style>\n",
       "<table border=\"1\" class=\"dataframe\">\n",
       "  <thead>\n",
       "    <tr style=\"text-align: right;\">\n",
       "      <th></th>\n",
       "      <th>index</th>\n",
       "      <th>Date</th>\n",
       "    </tr>\n",
       "  </thead>\n",
       "  <tbody>\n",
       "    <tr>\n",
       "      <th>0</th>\n",
       "      <td>0</td>\n",
       "      <td>2010-02-05</td>\n",
       "    </tr>\n",
       "    <tr>\n",
       "      <th>1</th>\n",
       "      <td>1</td>\n",
       "      <td>2010-02-12</td>\n",
       "    </tr>\n",
       "    <tr>\n",
       "      <th>2</th>\n",
       "      <td>2</td>\n",
       "      <td>2010-02-19</td>\n",
       "    </tr>\n",
       "    <tr>\n",
       "      <th>3</th>\n",
       "      <td>3</td>\n",
       "      <td>2010-02-26</td>\n",
       "    </tr>\n",
       "    <tr>\n",
       "      <th>4</th>\n",
       "      <td>4</td>\n",
       "      <td>2010-03-05</td>\n",
       "    </tr>\n",
       "  </tbody>\n",
       "</table>\n",
       "</div>"
      ],
      "text/plain": [
       "   index        Date\n",
       "0      0  2010-02-05\n",
       "1      1  2010-02-12\n",
       "2      2  2010-02-19\n",
       "3      3  2010-02-26\n",
       "4      4  2010-03-05"
      ]
     },
     "execution_count": 36,
     "metadata": {},
     "output_type": "execute_result"
    }
   ],
   "source": [
    "df['Date'].head().reset_index()"
   ]
  },
  {
   "cell_type": "code",
   "execution_count": 37,
   "id": "573fba8b-1f22-4191-b5b2-fa21e6d0f263",
   "metadata": {},
   "outputs": [
    {
     "data": {
      "text/html": [
       "<div>\n",
       "<style scoped>\n",
       "    .dataframe tbody tr th:only-of-type {\n",
       "        vertical-align: middle;\n",
       "    }\n",
       "\n",
       "    .dataframe tbody tr th {\n",
       "        vertical-align: top;\n",
       "    }\n",
       "\n",
       "    .dataframe thead th {\n",
       "        text-align: right;\n",
       "    }\n",
       "</style>\n",
       "<table border=\"1\" class=\"dataframe\">\n",
       "  <thead>\n",
       "    <tr style=\"text-align: right;\">\n",
       "      <th></th>\n",
       "      <th>index</th>\n",
       "      <th>Date</th>\n",
       "    </tr>\n",
       "  </thead>\n",
       "  <tbody>\n",
       "    <tr>\n",
       "      <th>0</th>\n",
       "      <td>421565</td>\n",
       "      <td>2012-09-28</td>\n",
       "    </tr>\n",
       "    <tr>\n",
       "      <th>1</th>\n",
       "      <td>421566</td>\n",
       "      <td>2012-10-05</td>\n",
       "    </tr>\n",
       "    <tr>\n",
       "      <th>2</th>\n",
       "      <td>421567</td>\n",
       "      <td>2012-10-12</td>\n",
       "    </tr>\n",
       "    <tr>\n",
       "      <th>3</th>\n",
       "      <td>421568</td>\n",
       "      <td>2012-10-19</td>\n",
       "    </tr>\n",
       "    <tr>\n",
       "      <th>4</th>\n",
       "      <td>421569</td>\n",
       "      <td>2012-10-26</td>\n",
       "    </tr>\n",
       "  </tbody>\n",
       "</table>\n",
       "</div>"
      ],
      "text/plain": [
       "    index        Date\n",
       "0  421565  2012-09-28\n",
       "1  421566  2012-10-05\n",
       "2  421567  2012-10-12\n",
       "3  421568  2012-10-19\n",
       "4  421569  2012-10-26"
      ]
     },
     "execution_count": 37,
     "metadata": {},
     "output_type": "execute_result"
    }
   ],
   "source": [
    "df['Date'].tail().reset_index()"
   ]
  },
  {
   "cell_type": "code",
   "execution_count": 38,
   "id": "dfab20c5-6639-4a9c-ab34-e7892b777b07",
   "metadata": {},
   "outputs": [
    {
     "data": {
      "text/plain": [
       "<Axes: xlabel='IsHoliday_x', ylabel='Weekly_Sales'>"
      ]
     },
     "execution_count": 38,
     "metadata": {},
     "output_type": "execute_result"
    },
    {
     "data": {
      "image/png": "[encoded data removed]",
      "text/plain": [
       "<Figure size 640x480 with 1 Axes>"
      ]
     },
     "metadata": {},
     "output_type": "display_data"
    }
   ],
   "source": [
    "sns.barplot(x='IsHoliday_x',y='Weekly_Sales',data=df)"
   ]
  },
  {
   "cell_type": "code",
   "execution_count": 39,
   "id": "a096f0f0-7ecd-453a-8d94-623d98447ff6",
   "metadata": {},
   "outputs": [
    {
     "data": {
      "text/plain": [
       "array(['2010-02-12', '2010-09-10', '2010-11-26', '2010-12-31',\n",
       "       '2011-02-11', '2011-09-09', '2011-11-25', '2011-12-30',\n",
       "       '2012-02-10', '2012-09-07'], dtype=object)"
      ]
     },
     "execution_count": 39,
     "metadata": {},
     "output_type": "execute_result"
    }
   ],
   "source": [
    "df_holiday = df.loc[df['IsHoliday_x']==True]\n",
    "df_holiday['Date'].unique()"
   ]
  },
  {
   "cell_type": "code",
   "execution_count": 41,
   "id": "ebf0045e-d4cb-435d-99a4-f4c1dd97d574",
   "metadata": {},
   "outputs": [
    {
     "data": {
      "text/plain": [
       "array(['2010-02-05', '2010-02-19', '2010-02-26', '2010-03-05',\n",
       "       '2010-03-12', '2010-03-19', '2010-03-26', '2010-04-02',\n",
       "       '2010-04-09', '2010-04-16', '2010-04-23', '2010-04-30',\n",
       "       '2010-05-07', '2010-05-14', '2010-05-21', '2010-05-28',\n",
       "       '2010-06-04', '2010-06-11', '2010-06-18', '2010-06-25',\n",
       "       '2010-07-02', '2010-07-09', '2010-07-16', '2010-07-23',\n",
       "       '2010-07-30', '2010-08-06', '2010-08-13', '2010-08-20',\n",
       "       '2010-08-27', '2010-09-03', '2010-09-17', '2010-09-24',\n",
       "       '2010-10-01', '2010-10-08', '2010-10-15', '2010-10-22',\n",
       "       '2010-10-29', '2010-11-05', '2010-11-12', '2010-11-19',\n",
       "       '2010-12-03', '2010-12-10', '2010-12-17', '2010-12-24',\n",
       "       '2011-01-07', '2011-01-14', '2011-01-21', '2011-01-28',\n",
       "       '2011-02-04', '2011-02-18', '2011-02-25', '2011-03-04',\n",
       "       '2011-03-11', '2011-03-18', '2011-03-25', '2011-04-01',\n",
       "       '2011-04-08', '2011-04-15', '2011-04-22', '2011-04-29',\n",
       "       '2011-05-06', '2011-05-13', '2011-05-20', '2011-05-27',\n",
       "       '2011-06-03', '2011-06-10', '2011-06-17', '2011-06-24',\n",
       "       '2011-07-01', '2011-07-08', '2011-07-15', '2011-07-22',\n",
       "       '2011-07-29', '2011-08-05', '2011-08-12', '2011-08-19',\n",
       "       '2011-08-26', '2011-09-02', '2011-09-16', '2011-09-23',\n",
       "       '2011-09-30', '2011-10-07', '2011-10-14', '2011-10-21',\n",
       "       '2011-10-28', '2011-11-04', '2011-11-11', '2011-11-18',\n",
       "       '2011-12-02', '2011-12-09', '2011-12-16', '2011-12-23',\n",
       "       '2012-01-06', '2012-01-13', '2012-01-20', '2012-01-27',\n",
       "       '2012-02-03', '2012-02-17', '2012-02-24', '2012-03-02',\n",
       "       '2012-03-09', '2012-03-16', '2012-03-23', '2012-03-30',\n",
       "       '2012-04-06', '2012-04-13', '2012-04-20', '2012-04-27',\n",
       "       '2012-05-04', '2012-05-11', '2012-05-18', '2012-05-25',\n",
       "       '2012-06-01', '2012-06-08', '2012-06-15', '2012-06-22',\n",
       "       '2012-06-29', '2012-07-06', '2012-07-13', '2012-07-20',\n",
       "       '2012-07-27', '2012-08-03', '2012-08-10', '2012-08-17',\n",
       "       '2012-08-24', '2012-08-31', '2012-09-14', '2012-09-21',\n",
       "       '2012-09-28', '2012-10-05', '2012-10-12', '2012-10-19',\n",
       "       '2012-10-26'], dtype=object)"
      ]
     },
     "execution_count": 41,
     "metadata": {},
     "output_type": "execute_result"
    }
   ],
   "source": [
    "df_holiday = df.loc[df['IsHoliday_x']==False]\n",
    "df_holiday['Date'].unique()"
   ]
  },
  {
   "cell_type": "code",
   "execution_count": 43,
   "id": "cfb03c38-b04e-4206-83b5-11bfce50b194",
   "metadata": {},
   "outputs": [],
   "source": [
    "df.loc[(df['Date']=='2010-02-1')|(df['Date']=='2012-02-11')|(df['Date']=='2012-02-10'),'Super_Bowl']=True"
   ]
  },
  {
   "cell_type": "code",
   "execution_count": 44,
   "id": "6669b731-e452-48d4-9684-83fd5527c581",
   "metadata": {},
   "outputs": [],
   "source": [
    "df.loc[(df['Date']!='2010-02-1')&(df['Date']!='2012-02-11')&(df['Date']!='2012-02-10'),'Super_Bowl']=False"
   ]
  },
  {
   "cell_type": "code",
   "execution_count": 71,
   "id": "d21a8c4c-cc71-4383-9c70-1329cb209d34",
   "metadata": {},
   "outputs": [
    {
     "data": {
      "text/plain": [
       "<Axes: xlabel='Super_Bowl', ylabel='Weekly_Sales'>"
      ]
     },
     "execution_count": 71,
     "metadata": {},
     "output_type": "execute_result"
    },
    {
     "data": {
      "image/png": "[encoded data removed]",
      "text/plain": [
       "<Figure size 640x480 with 1 Axes>"
      ]
     },
     "metadata": {},
     "output_type": "display_data"
    }
   ],
   "source": [
    "sns.barplot(x='Super_Bowl',y='Weekly_Sales',data=df)"
   ]
  },
  {
   "cell_type": "code",
   "execution_count": 47,
   "id": "816c743e-e8d0-45ff-ba3b-4c23946c4f87",
   "metadata": {},
   "outputs": [],
   "source": [
    "df.loc[(df['Date']=='2010-09-1')|(df['Date']=='2012-09-09')|(df['Date']=='2012-09-07'),'Labour_Day']=True"
   ]
  },
  {
   "cell_type": "code",
   "execution_count": 50,
   "id": "efe1502c-d61f-46d1-85f4-e4ce20058eee",
   "metadata": {},
   "outputs": [],
   "source": [
    "df.loc[(df['Date']!='2010-09-1')&(df['Date']!='2012-09-09')&(df['Date']!='2012-09-07'),'Labour_Day']=False"
   ]
  },
  {
   "cell_type": "code",
   "execution_count": 51,
   "id": "27727153-46d8-42d8-ae71-a56f053c9f78",
   "metadata": {},
   "outputs": [
    {
     "data": {
      "text/plain": [
       "<Axes: xlabel='Labour_Day', ylabel='Weekly_Sales'>"
      ]
     },
     "execution_count": 51,
     "metadata": {},
     "output_type": "execute_result"
    },
    {
     "data": {
      "image/png": "[encoded data removed]",
      "text/plain": [
       "<Figure size 640x480 with 1 Axes>"
      ]
     },
     "metadata": {},
     "output_type": "display_data"
    }
   ],
   "source": [
    "sns.barplot(x='Labour_Day',y='Weekly_Sales',data=df)"
   ]
  },
  {
   "cell_type": "code",
   "execution_count": 52,
   "id": "2c76bd0e-4759-4c57-94f2-72dd4d7e0801",
   "metadata": {},
   "outputs": [],
   "source": [
    "df.loc[(df['Date']=='2010-12-31')|(df['Date']=='2012-12-30'),'Christmas']=True"
   ]
  },
  {
   "cell_type": "code",
   "execution_count": 53,
   "id": "45c0a025-1090-47d4-87b2-82293f255244",
   "metadata": {},
   "outputs": [],
   "source": [
    "df.loc[(df['Date']!='2010-12-31')&(df['Date']!='2012-12-30'),'Christmas']=False"
   ]
  },
  {
   "cell_type": "code",
   "execution_count": 54,
   "id": "2142fb2a-6eef-456b-bd50-a56a8c1591ce",
   "metadata": {},
   "outputs": [
    {
     "data": {
      "text/plain": [
       "<Axes: xlabel='Christmas', ylabel='Weekly_Sales'>"
      ]
     },
     "execution_count": 54,
     "metadata": {},
     "output_type": "execute_result"
    },
    {
     "data": {
      "image/png": "[encoded data removed]",
      "text/plain": [
       "<Figure size 640x480 with 1 Axes>"
      ]
     },
     "metadata": {},
     "output_type": "display_data"
    }
   ],
   "source": [
    "sns.barplot(x='Christmas',y='Weekly_Sales',data=df)"
   ]
  },
  {
   "cell_type": "code",
   "execution_count": 77,
   "id": "9623874a-a255-4050-b5df-3182c88cc668",
   "metadata": {},
   "outputs": [
    {
     "data": {
      "text/html": [
       "<div>\n",
       "<style scoped>\n",
       "    .dataframe tbody tr th:only-of-type {\n",
       "        vertical-align: middle;\n",
       "    }\n",
       "\n",
       "    .dataframe tbody tr th {\n",
       "        vertical-align: top;\n",
       "    }\n",
       "\n",
       "    .dataframe thead th {\n",
       "        text-align: right;\n",
       "    }\n",
       "</style>\n",
       "<table border=\"1\" class=\"dataframe\">\n",
       "  <thead>\n",
       "    <tr style=\"text-align: right;\">\n",
       "      <th></th>\n",
       "      <th>Christmas</th>\n",
       "      <th>Type</th>\n",
       "      <th>Weekly_Sales</th>\n",
       "    </tr>\n",
       "  </thead>\n",
       "  <tbody>\n",
       "    <tr>\n",
       "      <th>0</th>\n",
       "      <td>False</td>\n",
       "      <td>A</td>\n",
       "      <td>20168.110685</td>\n",
       "    </tr>\n",
       "    <tr>\n",
       "      <th>1</th>\n",
       "      <td>False</td>\n",
       "      <td>B</td>\n",
       "      <td>12302.001757</td>\n",
       "    </tr>\n",
       "    <tr>\n",
       "      <th>2</th>\n",
       "      <td>False</td>\n",
       "      <td>C</td>\n",
       "      <td>9558.740426</td>\n",
       "    </tr>\n",
       "    <tr>\n",
       "      <th>3</th>\n",
       "      <td>True</td>\n",
       "      <td>A</td>\n",
       "      <td>17305.419281</td>\n",
       "    </tr>\n",
       "    <tr>\n",
       "      <th>4</th>\n",
       "      <td>True</td>\n",
       "      <td>B</td>\n",
       "      <td>10656.536911</td>\n",
       "    </tr>\n",
       "    <tr>\n",
       "      <th>5</th>\n",
       "      <td>True</td>\n",
       "      <td>C</td>\n",
       "      <td>8194.271073</td>\n",
       "    </tr>\n",
       "  </tbody>\n",
       "</table>\n",
       "</div>"
      ],
      "text/plain": [
       "   Christmas Type  Weekly_Sales\n",
       "0      False    A  20168.110685\n",
       "1      False    B  12302.001757\n",
       "2      False    C   9558.740426\n",
       "3       True    A  17305.419281\n",
       "4       True    B  10656.536911\n",
       "5       True    C   8194.271073"
      ]
     },
     "execution_count": 77,
     "metadata": {},
     "output_type": "execute_result"
    }
   ],
   "source": [
    "df.groupby(['Christmas','Type'])['Weekly_Sales'].mean().reset_index()"
   ]
  },
  {
   "cell_type": "code",
   "execution_count": 78,
   "id": "a0440c98-55aa-4984-99b6-b6909c11af78",
   "metadata": {},
   "outputs": [
    {
     "data": {
      "text/html": [
       "<div>\n",
       "<style scoped>\n",
       "    .dataframe tbody tr th:only-of-type {\n",
       "        vertical-align: middle;\n",
       "    }\n",
       "\n",
       "    .dataframe tbody tr th {\n",
       "        vertical-align: top;\n",
       "    }\n",
       "\n",
       "    .dataframe thead th {\n",
       "        text-align: right;\n",
       "    }\n",
       "</style>\n",
       "<table border=\"1\" class=\"dataframe\">\n",
       "  <thead>\n",
       "    <tr style=\"text-align: right;\">\n",
       "      <th></th>\n",
       "      <th>Labour_Day</th>\n",
       "      <th>Type</th>\n",
       "      <th>Weekly_Sales</th>\n",
       "    </tr>\n",
       "  </thead>\n",
       "  <tbody>\n",
       "    <tr>\n",
       "      <th>0</th>\n",
       "      <td>False</td>\n",
       "      <td>A</td>\n",
       "      <td>20144.565536</td>\n",
       "    </tr>\n",
       "    <tr>\n",
       "      <th>1</th>\n",
       "      <td>False</td>\n",
       "      <td>B</td>\n",
       "      <td>12290.123882</td>\n",
       "    </tr>\n",
       "    <tr>\n",
       "      <th>2</th>\n",
       "      <td>False</td>\n",
       "      <td>C</td>\n",
       "      <td>9546.158081</td>\n",
       "    </tr>\n",
       "    <tr>\n",
       "      <th>3</th>\n",
       "      <td>True</td>\n",
       "      <td>A</td>\n",
       "      <td>20648.887583</td>\n",
       "    </tr>\n",
       "    <tr>\n",
       "      <th>4</th>\n",
       "      <td>True</td>\n",
       "      <td>B</td>\n",
       "      <td>12350.871219</td>\n",
       "    </tr>\n",
       "    <tr>\n",
       "      <th>5</th>\n",
       "      <td>True</td>\n",
       "      <td>C</td>\n",
       "      <td>10002.070326</td>\n",
       "    </tr>\n",
       "  </tbody>\n",
       "</table>\n",
       "</div>"
      ],
      "text/plain": [
       "   Labour_Day Type  Weekly_Sales\n",
       "0       False    A  20144.565536\n",
       "1       False    B  12290.123882\n",
       "2       False    C   9546.158081\n",
       "3        True    A  20648.887583\n",
       "4        True    B  12350.871219\n",
       "5        True    C  10002.070326"
      ]
     },
     "execution_count": 78,
     "metadata": {},
     "output_type": "execute_result"
    }
   ],
   "source": [
    "df.groupby(['Labour_Day','Type'])['Weekly_Sales'].mean().reset_index()"
   ]
  },
  {
   "cell_type": "code",
   "execution_count": 79,
   "id": "b6580947-2211-41a8-95ee-98b8ec91e04a",
   "metadata": {},
   "outputs": [
    {
     "data": {
      "text/html": [
       "<div>\n",
       "<style scoped>\n",
       "    .dataframe tbody tr th:only-of-type {\n",
       "        vertical-align: middle;\n",
       "    }\n",
       "\n",
       "    .dataframe tbody tr th {\n",
       "        vertical-align: top;\n",
       "    }\n",
       "\n",
       "    .dataframe thead th {\n",
       "        text-align: right;\n",
       "    }\n",
       "</style>\n",
       "<table border=\"1\" class=\"dataframe\">\n",
       "  <thead>\n",
       "    <tr style=\"text-align: right;\">\n",
       "      <th></th>\n",
       "      <th>Super_Bowl</th>\n",
       "      <th>Type</th>\n",
       "      <th>Weekly_Sales</th>\n",
       "    </tr>\n",
       "  </thead>\n",
       "  <tbody>\n",
       "    <tr>\n",
       "      <th>0</th>\n",
       "      <td>False</td>\n",
       "      <td>A</td>\n",
       "      <td>20141.774002</td>\n",
       "    </tr>\n",
       "    <tr>\n",
       "      <th>1</th>\n",
       "      <td>False</td>\n",
       "      <td>B</td>\n",
       "      <td>12287.638792</td>\n",
       "    </tr>\n",
       "    <tr>\n",
       "      <th>2</th>\n",
       "      <td>False</td>\n",
       "      <td>C</td>\n",
       "      <td>9545.660797</td>\n",
       "    </tr>\n",
       "    <tr>\n",
       "      <th>3</th>\n",
       "      <td>True</td>\n",
       "      <td>A</td>\n",
       "      <td>21027.653865</td>\n",
       "    </tr>\n",
       "    <tr>\n",
       "      <th>4</th>\n",
       "      <td>True</td>\n",
       "      <td>B</td>\n",
       "      <td>12700.349922</td>\n",
       "    </tr>\n",
       "    <tr>\n",
       "      <th>5</th>\n",
       "      <td>True</td>\n",
       "      <td>C</td>\n",
       "      <td>10066.960841</td>\n",
       "    </tr>\n",
       "  </tbody>\n",
       "</table>\n",
       "</div>"
      ],
      "text/plain": [
       "   Super_Bowl Type  Weekly_Sales\n",
       "0       False    A  20141.774002\n",
       "1       False    B  12287.638792\n",
       "2       False    C   9545.660797\n",
       "3        True    A  21027.653865\n",
       "4        True    B  12700.349922\n",
       "5        True    C  10066.960841"
      ]
     },
     "execution_count": 79,
     "metadata": {},
     "output_type": "execute_result"
    }
   ],
   "source": [
    "df.groupby(['Super_Bowl','Type'])['Weekly_Sales'].mean().reset_index()"
   ]
  },
  {
   "cell_type": "code",
   "execution_count": 58,
   "id": "cfe414b2-f6c2-4ec9-a3bf-902ae5451e3c",
   "metadata": {},
   "outputs": [
    {
     "data": {
      "text/plain": [
       "(-1.0999996009944335,\n",
       " 1.099999980999735,\n",
       " -1.099997895997883,\n",
       " 1.0999997646557702)"
      ]
     },
     "execution_count": 58,
     "metadata": {},
     "output_type": "execute_result"
    },
    {
     "data": {
      "image/png": "[encoded data removed]",
      "text/plain": [
       "<Figure size 640x480 with 1 Axes>"
      ]
     },
     "metadata": {},
     "output_type": "display_data"
    }
   ],
   "source": [
    "my_data=[48.88,37.77,13.33]\n",
    "my_labels='Type a','Type b','Type c'\n",
    "plt.pie(my_data,labels=my_labels,autopct='%1.1f%%',textprops={'fontsize':15})\n",
    "plt.axis('equal')"
   ]
  },
  {
   "cell_type": "code",
   "execution_count": 59,
   "id": "342e829a-fd9d-40df-91b1-a6b7ef8c7307",
   "metadata": {},
   "outputs": [
    {
     "data": {
      "text/html": [
       "<div>\n",
       "<style scoped>\n",
       "    .dataframe tbody tr th:only-of-type {\n",
       "        vertical-align: middle;\n",
       "    }\n",
       "\n",
       "    .dataframe tbody tr th {\n",
       "        vertical-align: top;\n",
       "    }\n",
       "\n",
       "    .dataframe thead th {\n",
       "        text-align: right;\n",
       "    }\n",
       "</style>\n",
       "<table border=\"1\" class=\"dataframe\">\n",
       "  <thead>\n",
       "    <tr style=\"text-align: right;\">\n",
       "      <th></th>\n",
       "      <th>IsHoliday_x</th>\n",
       "      <th>Weekly_Sales</th>\n",
       "    </tr>\n",
       "  </thead>\n",
       "  <tbody>\n",
       "    <tr>\n",
       "      <th>0</th>\n",
       "      <td>False</td>\n",
       "      <td>15952.816352</td>\n",
       "    </tr>\n",
       "    <tr>\n",
       "      <th>1</th>\n",
       "      <td>True</td>\n",
       "      <td>17094.300918</td>\n",
       "    </tr>\n",
       "  </tbody>\n",
       "</table>\n",
       "</div>"
      ],
      "text/plain": [
       "   IsHoliday_x  Weekly_Sales\n",
       "0        False  15952.816352\n",
       "1         True  17094.300918"
      ]
     },
     "execution_count": 59,
     "metadata": {},
     "output_type": "execute_result"
    }
   ],
   "source": [
    "df.groupby('IsHoliday_x')['Weekly_Sales'].mean().reset_index()"
   ]
  },
  {
   "cell_type": "code",
   "execution_count": 60,
   "id": "72b48be0-f864-410b-aa08-c11dadc05e1b",
   "metadata": {},
   "outputs": [
    {
     "data": {
      "text/html": [
       "<div>\n",
       "<style scoped>\n",
       "    .dataframe tbody tr th:only-of-type {\n",
       "        vertical-align: middle;\n",
       "    }\n",
       "\n",
       "    .dataframe tbody tr th {\n",
       "        vertical-align: top;\n",
       "    }\n",
       "\n",
       "    .dataframe thead th {\n",
       "        text-align: right;\n",
       "    }\n",
       "</style>\n",
       "<table border=\"1\" class=\"dataframe\">\n",
       "  <thead>\n",
       "    <tr style=\"text-align: right;\">\n",
       "      <th></th>\n",
       "      <th>Store</th>\n",
       "      <th>Dept</th>\n",
       "      <th>Date</th>\n",
       "      <th>Weekly_Sales</th>\n",
       "      <th>IsHoliday_x</th>\n",
       "      <th>Temperature</th>\n",
       "      <th>Fuel_Price</th>\n",
       "      <th>MarkDown1</th>\n",
       "      <th>MarkDown2</th>\n",
       "      <th>MarkDown3</th>\n",
       "      <th>MarkDown4</th>\n",
       "      <th>MarkDown5</th>\n",
       "      <th>CPI</th>\n",
       "      <th>Unemployment</th>\n",
       "      <th>IsHoliday_y</th>\n",
       "      <th>Type</th>\n",
       "      <th>Size</th>\n",
       "      <th>Super_Bowl</th>\n",
       "      <th>Labour_Day</th>\n",
       "      <th>Christmas</th>\n",
       "    </tr>\n",
       "  </thead>\n",
       "  <tbody>\n",
       "    <tr>\n",
       "      <th>95373</th>\n",
       "      <td>10</td>\n",
       "      <td>72</td>\n",
       "      <td>2010-11-26</td>\n",
       "      <td>693099.36</td>\n",
       "      <td>True</td>\n",
       "      <td>55.33</td>\n",
       "      <td>3.162</td>\n",
       "      <td>NaN</td>\n",
       "      <td>NaN</td>\n",
       "      <td>NaN</td>\n",
       "      <td>NaN</td>\n",
       "      <td>NaN</td>\n",
       "      <td>126.669267</td>\n",
       "      <td>9.003</td>\n",
       "      <td>True</td>\n",
       "      <td>B</td>\n",
       "      <td>126512</td>\n",
       "      <td>False</td>\n",
       "      <td>False</td>\n",
       "      <td>False</td>\n",
       "    </tr>\n",
       "    <tr>\n",
       "      <th>338013</th>\n",
       "      <td>35</td>\n",
       "      <td>72</td>\n",
       "      <td>2011-11-25</td>\n",
       "      <td>649770.18</td>\n",
       "      <td>True</td>\n",
       "      <td>47.88</td>\n",
       "      <td>3.492</td>\n",
       "      <td>1333.24</td>\n",
       "      <td>NaN</td>\n",
       "      <td>58563.24</td>\n",
       "      <td>20.97</td>\n",
       "      <td>6386.86</td>\n",
       "      <td>140.421786</td>\n",
       "      <td>8.745</td>\n",
       "      <td>True</td>\n",
       "      <td>B</td>\n",
       "      <td>103681</td>\n",
       "      <td>False</td>\n",
       "      <td>False</td>\n",
       "      <td>False</td>\n",
       "    </tr>\n",
       "    <tr>\n",
       "      <th>95425</th>\n",
       "      <td>10</td>\n",
       "      <td>72</td>\n",
       "      <td>2011-11-25</td>\n",
       "      <td>630999.19</td>\n",
       "      <td>True</td>\n",
       "      <td>60.68</td>\n",
       "      <td>3.760</td>\n",
       "      <td>174.72</td>\n",
       "      <td>329.0</td>\n",
       "      <td>141630.61</td>\n",
       "      <td>79.00</td>\n",
       "      <td>1009.98</td>\n",
       "      <td>129.836400</td>\n",
       "      <td>7.874</td>\n",
       "      <td>True</td>\n",
       "      <td>B</td>\n",
       "      <td>126512</td>\n",
       "      <td>False</td>\n",
       "      <td>False</td>\n",
       "      <td>False</td>\n",
       "    </tr>\n",
       "    <tr>\n",
       "      <th>337961</th>\n",
       "      <td>35</td>\n",
       "      <td>72</td>\n",
       "      <td>2010-11-26</td>\n",
       "      <td>627962.93</td>\n",
       "      <td>True</td>\n",
       "      <td>46.67</td>\n",
       "      <td>3.039</td>\n",
       "      <td>NaN</td>\n",
       "      <td>NaN</td>\n",
       "      <td>NaN</td>\n",
       "      <td>NaN</td>\n",
       "      <td>NaN</td>\n",
       "      <td>136.689571</td>\n",
       "      <td>8.763</td>\n",
       "      <td>True</td>\n",
       "      <td>B</td>\n",
       "      <td>103681</td>\n",
       "      <td>False</td>\n",
       "      <td>False</td>\n",
       "      <td>False</td>\n",
       "    </tr>\n",
       "    <tr>\n",
       "      <th>135665</th>\n",
       "      <td>14</td>\n",
       "      <td>72</td>\n",
       "      <td>2010-11-26</td>\n",
       "      <td>474330.10</td>\n",
       "      <td>True</td>\n",
       "      <td>46.15</td>\n",
       "      <td>3.039</td>\n",
       "      <td>NaN</td>\n",
       "      <td>NaN</td>\n",
       "      <td>NaN</td>\n",
       "      <td>NaN</td>\n",
       "      <td>NaN</td>\n",
       "      <td>182.783277</td>\n",
       "      <td>8.724</td>\n",
       "      <td>True</td>\n",
       "      <td>A</td>\n",
       "      <td>200898</td>\n",
       "      <td>False</td>\n",
       "      <td>False</td>\n",
       "      <td>False</td>\n",
       "    </tr>\n",
       "  </tbody>\n",
       "</table>\n",
       "</div>"
      ],
      "text/plain": [
       "        Store  Dept        Date  Weekly_Sales  IsHoliday_x  Temperature  \\\n",
       "95373      10    72  2010-11-26     693099.36         True        55.33   \n",
       "338013     35    72  2011-11-25     649770.18         True        47.88   \n",
       "95425      10    72  2011-11-25     630999.19         True        60.68   \n",
       "337961     35    72  2010-11-26     627962.93         True        46.67   \n",
       "135665     14    72  2010-11-26     474330.10         True        46.15   \n",
       "\n",
       "        Fuel_Price  MarkDown1  MarkDown2  MarkDown3  MarkDown4  MarkDown5  \\\n",
       "95373        3.162        NaN        NaN        NaN        NaN        NaN   \n",
       "338013       3.492    1333.24        NaN   58563.24      20.97    6386.86   \n",
       "95425        3.760     174.72      329.0  141630.61      79.00    1009.98   \n",
       "337961       3.039        NaN        NaN        NaN        NaN        NaN   \n",
       "135665       3.039        NaN        NaN        NaN        NaN        NaN   \n",
       "\n",
       "               CPI  Unemployment  IsHoliday_y Type    Size Super_Bowl  \\\n",
       "95373   126.669267         9.003         True    B  126512      False   \n",
       "338013  140.421786         8.745         True    B  103681      False   \n",
       "95425   129.836400         7.874         True    B  126512      False   \n",
       "337961  136.689571         8.763         True    B  103681      False   \n",
       "135665  182.783277         8.724         True    A  200898      False   \n",
       "\n",
       "       Labour_Day Christmas  \n",
       "95373       False     False  \n",
       "338013      False     False  \n",
       "95425       False     False  \n",
       "337961      False     False  \n",
       "135665      False     False  "
      ]
     },
     "execution_count": 60,
     "metadata": {},
     "output_type": "execute_result"
    }
   ],
   "source": [
    "df.sort_values(by='Weekly_Sales',ascending=False).head()"
   ]
  },
  {
   "cell_type": "code",
   "execution_count": 61,
   "id": "c1206460-b9de-4665-81e0-061dfbb929cc",
   "metadata": {},
   "outputs": [
    {
     "data": {
      "text/html": [
       "<div>\n",
       "<style scoped>\n",
       "    .dataframe tbody tr th:only-of-type {\n",
       "        vertical-align: middle;\n",
       "    }\n",
       "\n",
       "    .dataframe tbody tr th {\n",
       "        vertical-align: top;\n",
       "    }\n",
       "\n",
       "    .dataframe thead th {\n",
       "        text-align: right;\n",
       "    }\n",
       "</style>\n",
       "<table border=\"1\" class=\"dataframe\">\n",
       "  <thead>\n",
       "    <tr style=\"text-align: right;\">\n",
       "      <th></th>\n",
       "      <th>Type</th>\n",
       "      <th>count</th>\n",
       "      <th>mean</th>\n",
       "      <th>std</th>\n",
       "      <th>min</th>\n",
       "      <th>25%</th>\n",
       "      <th>50%</th>\n",
       "      <th>75%</th>\n",
       "      <th>max</th>\n",
       "    </tr>\n",
       "  </thead>\n",
       "  <tbody>\n",
       "    <tr>\n",
       "      <th>0</th>\n",
       "      <td>A</td>\n",
       "      <td>22.0</td>\n",
       "      <td>177247.73</td>\n",
       "      <td>49392.62</td>\n",
       "      <td>39690.0</td>\n",
       "      <td>155840.75</td>\n",
       "      <td>202406.0</td>\n",
       "      <td>203819.0</td>\n",
       "      <td>219622.0</td>\n",
       "    </tr>\n",
       "    <tr>\n",
       "      <th>1</th>\n",
       "      <td>B</td>\n",
       "      <td>17.0</td>\n",
       "      <td>101190.71</td>\n",
       "      <td>32371.14</td>\n",
       "      <td>34875.0</td>\n",
       "      <td>93188.00</td>\n",
       "      <td>114533.0</td>\n",
       "      <td>123737.0</td>\n",
       "      <td>140167.0</td>\n",
       "    </tr>\n",
       "    <tr>\n",
       "      <th>2</th>\n",
       "      <td>C</td>\n",
       "      <td>6.0</td>\n",
       "      <td>40541.67</td>\n",
       "      <td>1304.15</td>\n",
       "      <td>39690.0</td>\n",
       "      <td>39745.00</td>\n",
       "      <td>39910.0</td>\n",
       "      <td>40774.0</td>\n",
       "      <td>42988.0</td>\n",
       "    </tr>\n",
       "  </tbody>\n",
       "</table>\n",
       "</div>"
      ],
      "text/plain": [
       "  Type  count       mean       std      min        25%       50%       75%  \\\n",
       "0    A   22.0  177247.73  49392.62  39690.0  155840.75  202406.0  203819.0   \n",
       "1    B   17.0  101190.71  32371.14  34875.0   93188.00  114533.0  123737.0   \n",
       "2    C    6.0   40541.67   1304.15  39690.0   39745.00   39910.0   40774.0   \n",
       "\n",
       "        max  \n",
       "0  219622.0  \n",
       "1  140167.0  \n",
       "2   42988.0  "
      ]
     },
     "execution_count": 61,
     "metadata": {},
     "output_type": "execute_result"
    }
   ],
   "source": [
    "df_store.groupby('Type').describe()['Size'].round(2).reset_index()"
   ]
  },
  {
   "cell_type": "code",
   "execution_count": 62,
   "id": "4698ac49-0e1a-4cdc-bf74-76cf1dd75b36",
   "metadata": {},
   "outputs": [
    {
     "data": {
      "image/png": "[encoded data removed]",
      "text/plain": [
       "<Figure size 1000x800 with 1 Axes>"
      ]
     },
     "metadata": {},
     "output_type": "display_data"
    }
   ],
   "source": [
    "plt.figure(figsize=(10,8))\n",
    "fig=sns.boxplot(x='Type',y='Size',data=df,showfliers=False)"
   ]
  },
  {
   "cell_type": "code",
   "execution_count": 63,
   "id": "62a55aad-3b70-46f8-8cfe-e89a51880130",
   "metadata": {},
   "outputs": [
    {
     "data": {
      "text/html": [
       "<div>\n",
       "<style scoped>\n",
       "    .dataframe tbody tr th:only-of-type {\n",
       "        vertical-align: middle;\n",
       "    }\n",
       "\n",
       "    .dataframe tbody tr th {\n",
       "        vertical-align: top;\n",
       "    }\n",
       "\n",
       "    .dataframe thead th {\n",
       "        text-align: right;\n",
       "    }\n",
       "</style>\n",
       "<table border=\"1\" class=\"dataframe\">\n",
       "  <thead>\n",
       "    <tr style=\"text-align: right;\">\n",
       "      <th></th>\n",
       "      <th>index</th>\n",
       "      <th>0</th>\n",
       "    </tr>\n",
       "  </thead>\n",
       "  <tbody>\n",
       "    <tr>\n",
       "      <th>0</th>\n",
       "      <td>Store</td>\n",
       "      <td>0</td>\n",
       "    </tr>\n",
       "    <tr>\n",
       "      <th>1</th>\n",
       "      <td>Dept</td>\n",
       "      <td>0</td>\n",
       "    </tr>\n",
       "    <tr>\n",
       "      <th>2</th>\n",
       "      <td>Date</td>\n",
       "      <td>0</td>\n",
       "    </tr>\n",
       "    <tr>\n",
       "      <th>3</th>\n",
       "      <td>Weekly_Sales</td>\n",
       "      <td>0</td>\n",
       "    </tr>\n",
       "    <tr>\n",
       "      <th>4</th>\n",
       "      <td>IsHoliday_x</td>\n",
       "      <td>0</td>\n",
       "    </tr>\n",
       "    <tr>\n",
       "      <th>5</th>\n",
       "      <td>Temperature</td>\n",
       "      <td>0</td>\n",
       "    </tr>\n",
       "    <tr>\n",
       "      <th>6</th>\n",
       "      <td>Fuel_Price</td>\n",
       "      <td>0</td>\n",
       "    </tr>\n",
       "    <tr>\n",
       "      <th>7</th>\n",
       "      <td>MarkDown1</td>\n",
       "      <td>270031</td>\n",
       "    </tr>\n",
       "    <tr>\n",
       "      <th>8</th>\n",
       "      <td>MarkDown2</td>\n",
       "      <td>309308</td>\n",
       "    </tr>\n",
       "    <tr>\n",
       "      <th>9</th>\n",
       "      <td>MarkDown3</td>\n",
       "      <td>283561</td>\n",
       "    </tr>\n",
       "    <tr>\n",
       "      <th>10</th>\n",
       "      <td>MarkDown4</td>\n",
       "      <td>285694</td>\n",
       "    </tr>\n",
       "    <tr>\n",
       "      <th>11</th>\n",
       "      <td>MarkDown5</td>\n",
       "      <td>269283</td>\n",
       "    </tr>\n",
       "    <tr>\n",
       "      <th>12</th>\n",
       "      <td>CPI</td>\n",
       "      <td>0</td>\n",
       "    </tr>\n",
       "    <tr>\n",
       "      <th>13</th>\n",
       "      <td>Unemployment</td>\n",
       "      <td>0</td>\n",
       "    </tr>\n",
       "    <tr>\n",
       "      <th>14</th>\n",
       "      <td>IsHoliday_y</td>\n",
       "      <td>0</td>\n",
       "    </tr>\n",
       "    <tr>\n",
       "      <th>15</th>\n",
       "      <td>Type</td>\n",
       "      <td>0</td>\n",
       "    </tr>\n",
       "    <tr>\n",
       "      <th>16</th>\n",
       "      <td>Size</td>\n",
       "      <td>0</td>\n",
       "    </tr>\n",
       "    <tr>\n",
       "      <th>17</th>\n",
       "      <td>Super_Bowl</td>\n",
       "      <td>0</td>\n",
       "    </tr>\n",
       "    <tr>\n",
       "      <th>18</th>\n",
       "      <td>Labour_Day</td>\n",
       "      <td>0</td>\n",
       "    </tr>\n",
       "    <tr>\n",
       "      <th>19</th>\n",
       "      <td>Christmas</td>\n",
       "      <td>0</td>\n",
       "    </tr>\n",
       "  </tbody>\n",
       "</table>\n",
       "</div>"
      ],
      "text/plain": [
       "           index       0\n",
       "0          Store       0\n",
       "1           Dept       0\n",
       "2           Date       0\n",
       "3   Weekly_Sales       0\n",
       "4    IsHoliday_x       0\n",
       "5    Temperature       0\n",
       "6     Fuel_Price       0\n",
       "7      MarkDown1  270031\n",
       "8      MarkDown2  309308\n",
       "9      MarkDown3  283561\n",
       "10     MarkDown4  285694\n",
       "11     MarkDown5  269283\n",
       "12           CPI       0\n",
       "13  Unemployment       0\n",
       "14   IsHoliday_y       0\n",
       "15          Type       0\n",
       "16          Size       0\n",
       "17    Super_Bowl       0\n",
       "18    Labour_Day       0\n",
       "19     Christmas       0"
      ]
     },
     "execution_count": 63,
     "metadata": {},
     "output_type": "execute_result"
    }
   ],
   "source": [
    "df.isna().sum().reset_index()"
   ]
  },
  {
   "cell_type": "code",
   "execution_count": 64,
   "id": "4b648846-7751-426d-a178-748eefcffa1c",
   "metadata": {},
   "outputs": [
    {
     "data": {
      "text/html": [
       "<div>\n",
       "<style scoped>\n",
       "    .dataframe tbody tr th:only-of-type {\n",
       "        vertical-align: middle;\n",
       "    }\n",
       "\n",
       "    .dataframe tbody tr th {\n",
       "        vertical-align: top;\n",
       "    }\n",
       "\n",
       "    .dataframe thead th {\n",
       "        text-align: right;\n",
       "    }\n",
       "</style>\n",
       "<table border=\"1\" class=\"dataframe\">\n",
       "  <thead>\n",
       "    <tr style=\"text-align: right;\">\n",
       "      <th></th>\n",
       "      <th>Store</th>\n",
       "      <th>Dept</th>\n",
       "      <th>Weekly_Sales</th>\n",
       "      <th>Temperature</th>\n",
       "      <th>Fuel_Price</th>\n",
       "      <th>MarkDown1</th>\n",
       "      <th>MarkDown2</th>\n",
       "      <th>MarkDown3</th>\n",
       "      <th>MarkDown4</th>\n",
       "      <th>MarkDown5</th>\n",
       "      <th>CPI</th>\n",
       "      <th>Unemployment</th>\n",
       "      <th>Size</th>\n",
       "    </tr>\n",
       "  </thead>\n",
       "  <tbody>\n",
       "    <tr>\n",
       "      <th>count</th>\n",
       "      <td>420212.000000</td>\n",
       "      <td>420212.000000</td>\n",
       "      <td>420212.000000</td>\n",
       "      <td>420212.000000</td>\n",
       "      <td>420212.000000</td>\n",
       "      <td>150181.000000</td>\n",
       "      <td>110904.000000</td>\n",
       "      <td>136651.000000</td>\n",
       "      <td>134518.000000</td>\n",
       "      <td>150929.000000</td>\n",
       "      <td>420212.000000</td>\n",
       "      <td>420212.000000</td>\n",
       "      <td>420212.000000</td>\n",
       "    </tr>\n",
       "    <tr>\n",
       "      <th>mean</th>\n",
       "      <td>22.195611</td>\n",
       "      <td>44.241309</td>\n",
       "      <td>16033.114591</td>\n",
       "      <td>60.090599</td>\n",
       "      <td>3.360890</td>\n",
       "      <td>7247.821269</td>\n",
       "      <td>3330.146158</td>\n",
       "      <td>1441.736203</td>\n",
       "      <td>3384.782267</td>\n",
       "      <td>4629.531870</td>\n",
       "      <td>171.212496</td>\n",
       "      <td>7.960000</td>\n",
       "      <td>136749.732787</td>\n",
       "    </tr>\n",
       "    <tr>\n",
       "      <th>std</th>\n",
       "      <td>12.787236</td>\n",
       "      <td>30.508819</td>\n",
       "      <td>22729.492116</td>\n",
       "      <td>18.447857</td>\n",
       "      <td>0.458519</td>\n",
       "      <td>8293.028741</td>\n",
       "      <td>9460.395025</td>\n",
       "      <td>9631.968459</td>\n",
       "      <td>6295.136952</td>\n",
       "      <td>5960.171711</td>\n",
       "      <td>39.162445</td>\n",
       "      <td>1.863879</td>\n",
       "      <td>60993.084568</td>\n",
       "    </tr>\n",
       "    <tr>\n",
       "      <th>min</th>\n",
       "      <td>1.000000</td>\n",
       "      <td>1.000000</td>\n",
       "      <td>0.010000</td>\n",
       "      <td>-2.060000</td>\n",
       "      <td>2.472000</td>\n",
       "      <td>0.270000</td>\n",
       "      <td>-265.760000</td>\n",
       "      <td>-29.100000</td>\n",
       "      <td>0.220000</td>\n",
       "      <td>135.160000</td>\n",
       "      <td>126.064000</td>\n",
       "      <td>3.879000</td>\n",
       "      <td>34875.000000</td>\n",
       "    </tr>\n",
       "    <tr>\n",
       "      <th>25%</th>\n",
       "      <td>11.000000</td>\n",
       "      <td>18.000000</td>\n",
       "      <td>2120.130000</td>\n",
       "      <td>46.680000</td>\n",
       "      <td>2.933000</td>\n",
       "      <td>2240.270000</td>\n",
       "      <td>41.600000</td>\n",
       "      <td>5.100000</td>\n",
       "      <td>504.220000</td>\n",
       "      <td>1878.440000</td>\n",
       "      <td>132.022667</td>\n",
       "      <td>6.891000</td>\n",
       "      <td>93638.000000</td>\n",
       "    </tr>\n",
       "    <tr>\n",
       "      <th>50%</th>\n",
       "      <td>22.000000</td>\n",
       "      <td>37.000000</td>\n",
       "      <td>7661.700000</td>\n",
       "      <td>62.090000</td>\n",
       "      <td>3.452000</td>\n",
       "      <td>5347.450000</td>\n",
       "      <td>192.000000</td>\n",
       "      <td>24.600000</td>\n",
       "      <td>1481.310000</td>\n",
       "      <td>3359.450000</td>\n",
       "      <td>182.350989</td>\n",
       "      <td>7.866000</td>\n",
       "      <td>140167.000000</td>\n",
       "    </tr>\n",
       "    <tr>\n",
       "      <th>75%</th>\n",
       "      <td>33.000000</td>\n",
       "      <td>74.000000</td>\n",
       "      <td>20271.265000</td>\n",
       "      <td>74.280000</td>\n",
       "      <td>3.738000</td>\n",
       "      <td>9210.900000</td>\n",
       "      <td>1926.940000</td>\n",
       "      <td>103.990000</td>\n",
       "      <td>3595.040000</td>\n",
       "      <td>5563.800000</td>\n",
       "      <td>212.445487</td>\n",
       "      <td>8.567000</td>\n",
       "      <td>202505.000000</td>\n",
       "    </tr>\n",
       "    <tr>\n",
       "      <th>max</th>\n",
       "      <td>45.000000</td>\n",
       "      <td>99.000000</td>\n",
       "      <td>693099.360000</td>\n",
       "      <td>100.140000</td>\n",
       "      <td>4.468000</td>\n",
       "      <td>88646.760000</td>\n",
       "      <td>104519.540000</td>\n",
       "      <td>141630.610000</td>\n",
       "      <td>67474.850000</td>\n",
       "      <td>108519.280000</td>\n",
       "      <td>227.232807</td>\n",
       "      <td>14.313000</td>\n",
       "      <td>219622.000000</td>\n",
       "    </tr>\n",
       "  </tbody>\n",
       "</table>\n",
       "</div>"
      ],
      "text/plain": [
       "               Store           Dept   Weekly_Sales    Temperature  \\\n",
       "count  420212.000000  420212.000000  420212.000000  420212.000000   \n",
       "mean       22.195611      44.241309   16033.114591      60.090599   \n",
       "std        12.787236      30.508819   22729.492116      18.447857   \n",
       "min         1.000000       1.000000       0.010000      -2.060000   \n",
       "25%        11.000000      18.000000    2120.130000      46.680000   \n",
       "50%        22.000000      37.000000    7661.700000      62.090000   \n",
       "75%        33.000000      74.000000   20271.265000      74.280000   \n",
       "max        45.000000      99.000000  693099.360000     100.140000   \n",
       "\n",
       "          Fuel_Price      MarkDown1      MarkDown2      MarkDown3  \\\n",
       "count  420212.000000  150181.000000  110904.000000  136651.000000   \n",
       "mean        3.360890    7247.821269    3330.146158    1441.736203   \n",
       "std         0.458519    8293.028741    9460.395025    9631.968459   \n",
       "min         2.472000       0.270000    -265.760000     -29.100000   \n",
       "25%         2.933000    2240.270000      41.600000       5.100000   \n",
       "50%         3.452000    5347.450000     192.000000      24.600000   \n",
       "75%         3.738000    9210.900000    1926.940000     103.990000   \n",
       "max         4.468000   88646.760000  104519.540000  141630.610000   \n",
       "\n",
       "           MarkDown4      MarkDown5            CPI   Unemployment  \\\n",
       "count  134518.000000  150929.000000  420212.000000  420212.000000   \n",
       "mean     3384.782267    4629.531870     171.212496       7.960000   \n",
       "std      6295.136952    5960.171711      39.162445       1.863879   \n",
       "min         0.220000     135.160000     126.064000       3.879000   \n",
       "25%       504.220000    1878.440000     132.022667       6.891000   \n",
       "50%      1481.310000    3359.450000     182.350989       7.866000   \n",
       "75%      3595.040000    5563.800000     212.445487       8.567000   \n",
       "max     67474.850000  108519.280000     227.232807      14.313000   \n",
       "\n",
       "                Size  \n",
       "count  420212.000000  \n",
       "mean   136749.732787  \n",
       "std     60993.084568  \n",
       "min     34875.000000  \n",
       "25%     93638.000000  \n",
       "50%    140167.000000  \n",
       "75%    202505.000000  \n",
       "max    219622.000000  "
      ]
     },
     "execution_count": 64,
     "metadata": {},
     "output_type": "execute_result"
    }
   ],
   "source": [
    "df.describe()"
   ]
  },
  {
   "cell_type": "code",
   "execution_count": 65,
   "id": "92da09e0-2385-42ad-824b-6f5e371ce096",
   "metadata": {},
   "outputs": [
    {
     "data": {
      "image/png": "[encoded data removed]",
      "text/plain": [
       "<Figure size 1500x500 with 1 Axes>"
      ]
     },
     "metadata": {},
     "output_type": "display_data"
    }
   ],
   "source": [
    "x = df['Dept']\n",
    "y = df['Weekly_Sales']\n",
    "plt.figure(figsize=(15,5))\n",
    "plt.title('Weekly sales by department')\n",
    "plt.xlabel('Department')\n",
    "plt.ylabel('weekly Sales')\n",
    "plt.scatter(x,y)\n",
    "plt.show()"
   ]
  },
  {
   "cell_type": "code",
   "execution_count": 93,
   "id": "98712daf-cacc-460e-b31d-c073a60714d2",
   "metadata": {},
   "outputs": [
    {
     "data": {
      "image/png": "[encoded data removed]",
      "text/plain": [
       "<Figure size 3000x1000 with 1 Axes>"
      ]
     },
     "metadata": {},
     "output_type": "display_data"
    }
   ],
   "source": [
    "plt.figure(figsize=(30,10))\n",
    "fig = sns.barplot(x='Dept',y='Weekly_Sales',data=df)"
   ]
  },
  {
   "cell_type": "code",
   "execution_count": 97,
   "id": "6ecb7c5d-f8f3-4dd5-8384-b24b71ad69a2",
   "metadata": {},
   "outputs": [
    {
     "data": {
      "image/png": "[encoded data removed]",
      "text/plain": [
       "<Figure size 2000x600 with 1 Axes>"
      ]
     },
     "metadata": {},
     "output_type": "display_data"
    }
   ],
   "source": [
    "plt.figure(figsize=(20,6))\n",
    "fig = sns.barplot(x='Store',y='Weekly_Sales',data=df)"
   ]
  },
  {
   "cell_type": "code",
   "execution_count": 109,
   "id": "2fed2ca4-24af-48b5-8841-f8735f44af15",
   "metadata": {},
   "outputs": [
    {
     "data": {
      "text/plain": [
       "<Axes: xlabel='Fuel_Price'>"
      ]
     },
     "execution_count": 109,
     "metadata": {},
     "output_type": "execute_result"
    },
    {
     "data": {
      "image/png": "[encoded data removed]",
      "text/plain": [
       "<Figure size 640x480 with 1 Axes>"
      ]
     },
     "metadata": {},
     "output_type": "display_data"
    }
   ],
   "source": [
    "fuel_price = pd.pivot_table(df,values='Weekly_Sales',index='Fuel_Price')\n",
    "fuel_price.plot()"
   ]
  },
  {
   "cell_type": "code",
   "execution_count": 111,
   "id": "012ffddb-3147-4b2f-821f-747ab0963c64",
   "metadata": {},
   "outputs": [
    {
     "data": {
      "text/plain": [
       "<Axes: xlabel='Temperature'>"
      ]
     },
     "execution_count": 111,
     "metadata": {},
     "output_type": "execute_result"
    },
    {
     "data": {
      "image/png": "[encoded data removed]",
      "text/plain": [
       "<Figure size 640x480 with 1 Axes>"
      ]
     },
     "metadata": {},
     "output_type": "display_data"
    }
   ],
   "source": [
    "temp = pd.pivot_table(df,values='Weekly_Sales',index='Temperature')\n",
    "temp.plot()"
   ]
  },
  {
   "cell_type": "code",
   "execution_count": 113,
   "id": "d140790d-1dcb-4523-964b-0797454b08d6",
   "metadata": {},
   "outputs": [
    {
     "data": {
      "text/plain": [
       "<Axes: xlabel='Fuel_Price'>"
      ]
     },
     "execution_count": 113,
     "metadata": {},
     "output_type": "execute_result"
    },
    {
     "data": {
      "image/png": "[encoded data removed]",
      "text/plain": [
       "<Figure size 640x480 with 1 Axes>"
      ]
     },
     "metadata": {},
     "output_type": "display_data"
    }
   ],
   "source": [
    "CPI = pd.pivot_table(df,values='Weekly_Sales',index='Fuel_Price')\n",
    "CPI.plot()"
   ]
  },
  {
   "cell_type": "code",
   "execution_count": 115,
   "id": "61e9af6e-2c2f-4df6-8381-e555eeb57304",
   "metadata": {},
   "outputs": [
    {
     "data": {
      "text/plain": [
       "<Axes: xlabel='CPI'>"
      ]
     },
     "execution_count": 115,
     "metadata": {},
     "output_type": "execute_result"
    },
    {
     "data": {
      "image/png": "[encoded data removed]",
      "text/plain": [
       "<Figure size 640x480 with 1 Axes>"
      ]
     },
     "metadata": {},
     "output_type": "display_data"
    }
   ],
   "source": [
    "CPI = pd.pivot_table(df,values='Weekly_Sales',index='CPI')\n",
    "CPI.plot()"
   ]
  },
  {
   "cell_type": "code",
   "execution_count": 117,
   "id": "3c9ba707-f7d1-47a3-9fcd-18143ca21fb4",
   "metadata": {},
   "outputs": [
    {
     "data": {
      "text/plain": [
       "<Axes: xlabel='Unemployment'>"
      ]
     },
     "execution_count": 117,
     "metadata": {},
     "output_type": "execute_result"
    },
    {
     "data": {
      "image/png": "[encoded data removed]",
      "text/plain": [
       "<Figure size 640x480 with 1 Axes>"
      ]
     },
     "metadata": {},
     "output_type": "display_data"
    }
   ],
   "source": [
    "UNEMPLOYMENT = pd.pivot_table(df,values='Weekly_Sales',index='Unemployment')\n",
    "UNEMPLOYMENT.plot()"
   ]
  },
  {
   "cell_type": "code",
   "execution_count": 119,
   "id": "026f0e58-e6d0-4464-bd9d-e871de8f664d",
   "metadata": {},
   "outputs": [],
   "source": [
    "df.to_csv('clean_data.csv')"
   ]
  },
  {
   "cell_type": "code",
   "execution_count": null,
   "id": "16312fa1-420d-4ae5-862f-cb45177e550f",
   "metadata": {},
   "outputs": [],
   "source": []
  },
  {
   "cell_type": "code",
   "execution_count": 122,
   "id": "a771cc5f-adf1-442f-9448-f45d5a728e2a",
   "metadata": {},
   "outputs": [],
   "source": [
    "df = pd.read_csv('./clean_data.csv')"
   ]
  },
  {
   "cell_type": "code",
   "execution_count": 124,
   "id": "eea1e3ba-5a3a-45d8-ac97-e15bc52845ac",
   "metadata": {},
   "outputs": [],
   "source": [
    "df.drop(columns=['Unnamed: 0'],inplace=True)"
   ]
  },
  {
   "cell_type": "code",
   "execution_count": 126,
   "id": "4970f777-e578-48bf-8c8d-201c50c29f2b",
   "metadata": {},
   "outputs": [],
   "source": [
    "df_encoded = df.copy()"
   ]
  },
  {
   "cell_type": "code",
   "execution_count": 128,
   "id": "b7a741e3-979e-4075-b665-66f16065b5ae",
   "metadata": {},
   "outputs": [
    {
     "name": "stderr",
     "output_type": "stream",
     "text": [
      "C:\\Users\\ASUS\\AppData\\Local\\Temp\\ipykernel_13840\\610445081.py:2: FutureWarning: Downcasting behavior in `replace` is deprecated and will be removed in a future version. To retain the old behavior, explicitly call `result.infer_objects(copy=False)`. To opt-in to the future behavior, set `pd.set_option('future.no_silent_downcasting', True)`\n",
      "  df_encoded['Type'] = df_encoded['Type'].replace(type_group)\n"
     ]
    }
   ],
   "source": [
    "type_group = {'A':1,'B':2,'C':3}\n",
    "df_encoded['Type'] = df_encoded['Type'].replace(type_group)"
   ]
  },
  {
   "cell_type": "code",
   "execution_count": 132,
   "id": "9bb06465-ed1e-4ce2-a866-83f228abcee3",
   "metadata": {},
   "outputs": [],
   "source": [
    "df_encoded['Super_Bowl'] = df_encoded['Super_Bowl'].astype(bool).astype(int)"
   ]
  },
  {
   "cell_type": "code",
   "execution_count": 134,
   "id": "e5c19c55-5402-41d5-b037-ca86bd1d39f5",
   "metadata": {},
   "outputs": [],
   "source": [
    "df_encoded['Labour_Day'] = df_encoded['Super_Bowl'].astype(bool).astype(int)"
   ]
  },
  {
   "cell_type": "code",
   "execution_count": 136,
   "id": "7125b9eb-1bea-4f26-b91c-2c6925b2d40e",
   "metadata": {},
   "outputs": [],
   "source": [
    "df_encoded['Christmas'] = df_encoded['Super_Bowl'].astype(bool).astype(int)"
   ]
  },
  {
   "cell_type": "code",
   "execution_count": 138,
   "id": "fa75c023-e369-48a8-860b-9cbceed3041b",
   "metadata": {},
   "outputs": [],
   "source": [
    "df_new = df_encoded.copy()"
   ]
  },
  {
   "cell_type": "code",
   "execution_count": 140,
   "id": "f7f1dfc9-c02f-4f18-9606-e571841d43e0",
   "metadata": {},
   "outputs": [],
   "source": [
    "drop_col = ['Super_Bowl','Labour_Day','Christmas']\n",
    "df_new.drop(drop_col,axis=1,inplace=True)"
   ]
  },
  {
   "cell_type": "code",
   "execution_count": null,
   "id": "b4cf2bd2-2d36-4cba-b8f6-25848057a376",
   "metadata": {},
   "outputs": [],
   "source": [
    "plt.figure(figsize = (12,10))\n",
    "sns.heatmap(df_new.corr())\n",
    "plt.show()"
   ]
  },
  {
   "cell_type": "code",
   "execution_count": 154,
   "id": "1791a3c6-dd9c-4c3f-bec8-e748ab3fcd5d",
   "metadata": {},
   "outputs": [
    {
     "name": "stdout",
     "output_type": "stream",
     "text": [
      "Index(['Store', 'Dept', 'Date', 'Weekly_Sales', 'IsHoliday_x', 'Temperature',\n",
      "       'Fuel_Price', 'MarkDown1', 'MarkDown2', 'MarkDown3', 'MarkDown4',\n",
      "       'MarkDown5', 'CPI', 'Unemployment', 'IsHoliday_y', 'Type', 'Size',\n",
      "       'Super_Bowl', 'Labour_Day', 'Christmas'],\n",
      "      dtype='object')\n"
     ]
    },
    {
     "ename": "NameError",
     "evalue": "name 'test_data_enc' is not defined",
     "output_type": "error",
     "traceback": [
      "\u001b[1;31m---------------------------------------------------------------------------\u001b[0m",
      "\u001b[1;31mNameError\u001b[0m                                 Traceback (most recent call last)",
      "Cell \u001b[1;32mIn[154], line 10\u001b[0m\n\u001b[0;32m      7\u001b[0m used_cols1\u001b[38;5;241m=\u001b[39m[c \u001b[38;5;28;01mfor\u001b[39;00m c \u001b[38;5;129;01min\u001b[39;00m df_encoded\u001b[38;5;241m.\u001b[39mcolumns\u001b[38;5;241m.\u001b[39mto_list() \u001b[38;5;28;01mif\u001b[39;00m c \u001b[38;5;129;01mnot\u001b[39;00m \u001b[38;5;129;01min\u001b[39;00m [target]]\n\u001b[0;32m      9\u001b[0m X_train_enc \u001b[38;5;241m=\u001b[39m train_data_enc[used_cols1]\n\u001b[1;32m---> 10\u001b[0m X_test_enc \u001b[38;5;241m=\u001b[39m test_data_enc[used_cols1]\n\u001b[0;32m     11\u001b[0m Y_train_enc \u001b[38;5;241m=\u001b[39m train_data_enc[target]\n\u001b[0;32m     12\u001b[0m Y_test_enc \u001b[38;5;241m=\u001b[39m test_data_enc[target]\n",
      "\u001b[1;31mNameError\u001b[0m: name 'test_data_enc' is not defined"
     ]
    }
   ],
   "source": [
    "train_data_enc = df_encoded[:int(0.7*(len(df_encoded)))]\n",
    "train_data_enc = df_encoded[int(0.7*(len(df_encoded))):]\n",
    "\n",
    "print(df_encoded.columns)\n",
    "\n",
    "target ='Weekly_Sales'\n",
    "used_cols1=[c for c in df_encoded.columns.to_list() if c not in [target]]\n",
    "\n",
    "X_train_enc = train_data_enc[used_cols1]\n",
    "X_test_enc = test_data_enc[used_cols1]\n",
    "Y_train_enc = train_data_enc[target]\n",
    "Y_test_enc = test_data_enc[target]"
   ]
  },
  {
   "cell_type": "code",
   "execution_count": 170,
   "id": "3c1e92d6-7131-4aab-ad64-90bad29e9ae3",
   "metadata": {},
   "outputs": [],
   "source": [
    "X_enc = df_encoded[used_cols1]"
   ]
  },
  {
   "cell_type": "code",
   "execution_count": 172,
   "id": "2f312844-2fff-4f67-a9cd-0df2f3fefa97",
   "metadata": {},
   "outputs": [
    {
     "name": "stdout",
     "output_type": "stream",
     "text": [
      "2450.10123789856436\n"
     ]
    }
   ],
   "source": [
    "print('2450.10123789856436')"
   ]
  },
  {
   "cell_type": "code",
   "execution_count": null,
   "id": "07d36acc-ec43-4147-9e3f-01625b2f8e4b",
   "metadata": {},
   "outputs": [],
   "source": []
  },
  {
   "cell_type": "code",
   "execution_count": null,
   "id": "14f5e916-d28c-4e18-8676-68e3bf865b89",
   "metadata": {},
   "outputs": [],
   "source": []
  },
  {
   "cell_type": "code",
   "execution_count": null,
   "id": "0a091744-f47e-4174-bc05-eb16e28a3470",
   "metadata": {},
   "outputs": [],
   "source": []
  },
  {
   "cell_type": "code",
   "execution_count": null,
   "id": "4eddeaaf-d8ff-495d-872b-70a8aa6adece",
   "metadata": {},
   "outputs": [],
   "source": []
  },
  {
   "cell_type": "code",
   "execution_count": null,
   "id": "9ff00787-9174-4f53-9de1-2ddad85a103c",
   "metadata": {},
   "outputs": [],
   "source": []
  }
 ],
 "metadata": {
  "kernelspec": {
   "display_name": "Python 3 (ipykernel)",
   "language": "python",
   "name": "python3"
  },
  "language_info": {
   "codemirror_mode": {
    "name": "ipython",
    "version": 3
   },
   "file_extension": ".py",
   "mimetype": "text/x-python",
   "name": "python",
   "nbconvert_exporter": "python",
   "pygments_lexer": "ipython3",
   "version": "3.12.4"
  }
 },
 "nbformat": 4,
 "nbformat_minor": 5
}
